{
 "cells": [
  {
   "cell_type": "markdown",
   "id": "c3d3bff2",
   "metadata": {},
   "source": [
    "## Machine Learning\n",
    "I will now build a number of machine learning models to predict a player's transfer fee from all of the other data we have on the transfer. I will first use classification to approach this problem, by predicting a bucketed range that the transfer fee will fall into. I will then use regression to try to predict the exact transfer fee rather than a bucketed range."
   ]
  },
  {
   "cell_type": "code",
   "execution_count": 1,
   "id": "55be005f",
   "metadata": {},
   "outputs": [
    {
     "data": {
      "text/html": [
       "<div>\n",
       "<style scoped>\n",
       "    .dataframe tbody tr th:only-of-type {\n",
       "        vertical-align: middle;\n",
       "    }\n",
       "\n",
       "    .dataframe tbody tr th {\n",
       "        vertical-align: top;\n",
       "    }\n",
       "\n",
       "    .dataframe thead th {\n",
       "        text-align: right;\n",
       "    }\n",
       "</style>\n",
       "<table border=\"1\" class=\"dataframe\">\n",
       "  <thead>\n",
       "    <tr style=\"text-align: right;\">\n",
       "      <th></th>\n",
       "      <th>Unnamed: 0</th>\n",
       "      <th>Name</th>\n",
       "      <th>Position</th>\n",
       "      <th>Age</th>\n",
       "      <th>Team_from</th>\n",
       "      <th>League_from</th>\n",
       "      <th>Team_to</th>\n",
       "      <th>League_to</th>\n",
       "      <th>Season</th>\n",
       "      <th>Market_value</th>\n",
       "      <th>Transfer_fee</th>\n",
       "    </tr>\n",
       "  </thead>\n",
       "  <tbody>\n",
       "    <tr>\n",
       "      <th>0</th>\n",
       "      <td>0</td>\n",
       "      <td>Luís Figo</td>\n",
       "      <td>Right Midfield</td>\n",
       "      <td>27</td>\n",
       "      <td>FC Barcelona</td>\n",
       "      <td>LaLiga</td>\n",
       "      <td>Real Madrid</td>\n",
       "      <td>LaLiga</td>\n",
       "      <td>2000-2001</td>\n",
       "      <td>NaN</td>\n",
       "      <td>60000000</td>\n",
       "    </tr>\n",
       "    <tr>\n",
       "      <th>1</th>\n",
       "      <td>1</td>\n",
       "      <td>Hernán Crespo</td>\n",
       "      <td>Centre-Forward</td>\n",
       "      <td>25</td>\n",
       "      <td>Parma</td>\n",
       "      <td>Serie A</td>\n",
       "      <td>Lazio</td>\n",
       "      <td>Serie A</td>\n",
       "      <td>2000-2001</td>\n",
       "      <td>NaN</td>\n",
       "      <td>56810000</td>\n",
       "    </tr>\n",
       "    <tr>\n",
       "      <th>2</th>\n",
       "      <td>2</td>\n",
       "      <td>Marc Overmars</td>\n",
       "      <td>Left Midfield</td>\n",
       "      <td>27</td>\n",
       "      <td>Arsenal</td>\n",
       "      <td>Premier League</td>\n",
       "      <td>FC Barcelona</td>\n",
       "      <td>LaLiga</td>\n",
       "      <td>2000-2001</td>\n",
       "      <td>NaN</td>\n",
       "      <td>40000000</td>\n",
       "    </tr>\n",
       "    <tr>\n",
       "      <th>3</th>\n",
       "      <td>3</td>\n",
       "      <td>Gabriel Batistuta</td>\n",
       "      <td>Centre-Forward</td>\n",
       "      <td>31</td>\n",
       "      <td>Fiorentina</td>\n",
       "      <td>Serie A</td>\n",
       "      <td>AS Roma</td>\n",
       "      <td>Serie A</td>\n",
       "      <td>2000-2001</td>\n",
       "      <td>NaN</td>\n",
       "      <td>36150000</td>\n",
       "    </tr>\n",
       "    <tr>\n",
       "      <th>4</th>\n",
       "      <td>4</td>\n",
       "      <td>Nicolas Anelka</td>\n",
       "      <td>Centre-Forward</td>\n",
       "      <td>21</td>\n",
       "      <td>Real Madrid</td>\n",
       "      <td>LaLiga</td>\n",
       "      <td>Paris SG</td>\n",
       "      <td>Ligue 1</td>\n",
       "      <td>2000-2001</td>\n",
       "      <td>NaN</td>\n",
       "      <td>34500000</td>\n",
       "    </tr>\n",
       "  </tbody>\n",
       "</table>\n",
       "</div>"
      ],
      "text/plain": [
       "   Unnamed: 0               Name        Position  Age     Team_from  \\\n",
       "0           0          Luís Figo  Right Midfield   27  FC Barcelona   \n",
       "1           1      Hernán Crespo  Centre-Forward   25         Parma   \n",
       "2           2      Marc Overmars   Left Midfield   27       Arsenal   \n",
       "3           3  Gabriel Batistuta  Centre-Forward   31    Fiorentina   \n",
       "4           4     Nicolas Anelka  Centre-Forward   21   Real Madrid   \n",
       "\n",
       "      League_from       Team_to League_to     Season  Market_value  \\\n",
       "0          LaLiga   Real Madrid    LaLiga  2000-2001           NaN   \n",
       "1         Serie A         Lazio   Serie A  2000-2001           NaN   \n",
       "2  Premier League  FC Barcelona    LaLiga  2000-2001           NaN   \n",
       "3         Serie A       AS Roma   Serie A  2000-2001           NaN   \n",
       "4          LaLiga      Paris SG   Ligue 1  2000-2001           NaN   \n",
       "\n",
       "   Transfer_fee  \n",
       "0      60000000  \n",
       "1      56810000  \n",
       "2      40000000  \n",
       "3      36150000  \n",
       "4      34500000  "
      ]
     },
     "execution_count": 1,
     "metadata": {},
     "output_type": "execute_result"
    }
   ],
   "source": [
    "%matplotlib inline\n",
    "import warnings\n",
    "import pandas as pd\n",
    "from pandas.core.common import SettingWithCopyWarning\n",
    "warnings.simplefilter(action='ignore', category=SettingWithCopyWarning)\n",
    "from sklearn.exceptions import DataConversionWarning\n",
    "warnings.filterwarnings(action='ignore', category=DataConversionWarning)\n",
    "import matplotlib.pyplot as plt\n",
    "import numpy as np\n",
    "import seaborn as sns\n",
    "import math\n",
    "df = pd.read_csv(\"cleaned.csv\")\n",
    "df.head()"
   ]
  },
  {
   "cell_type": "markdown",
   "id": "a82dd469",
   "metadata": {},
   "source": [
    "I will first use classification to develop a machine learning model capable of predicting a player's transfer fee based on the other attributes (besides name for obvious reasons and market value due to presence of a lot of Nan's)."
   ]
  },
  {
   "cell_type": "code",
   "execution_count": 2,
   "id": "a501aca4",
   "metadata": {},
   "outputs": [
    {
     "data": {
      "text/html": [
       "<div>\n",
       "<style scoped>\n",
       "    .dataframe tbody tr th:only-of-type {\n",
       "        vertical-align: middle;\n",
       "    }\n",
       "\n",
       "    .dataframe tbody tr th {\n",
       "        vertical-align: top;\n",
       "    }\n",
       "\n",
       "    .dataframe thead th {\n",
       "        text-align: right;\n",
       "    }\n",
       "</style>\n",
       "<table border=\"1\" class=\"dataframe\">\n",
       "  <thead>\n",
       "    <tr style=\"text-align: right;\">\n",
       "      <th></th>\n",
       "      <th>Position</th>\n",
       "      <th>Age</th>\n",
       "      <th>Team_from</th>\n",
       "      <th>League_from</th>\n",
       "      <th>Team_to</th>\n",
       "      <th>League_to</th>\n",
       "      <th>Season</th>\n",
       "      <th>Transfer_fee</th>\n",
       "    </tr>\n",
       "  </thead>\n",
       "  <tbody>\n",
       "    <tr>\n",
       "      <th>0</th>\n",
       "      <td>Right Midfield</td>\n",
       "      <td>27</td>\n",
       "      <td>FC Barcelona</td>\n",
       "      <td>LaLiga</td>\n",
       "      <td>Real Madrid</td>\n",
       "      <td>LaLiga</td>\n",
       "      <td>2000-2001</td>\n",
       "      <td>60000000</td>\n",
       "    </tr>\n",
       "    <tr>\n",
       "      <th>1</th>\n",
       "      <td>Centre-Forward</td>\n",
       "      <td>25</td>\n",
       "      <td>Parma</td>\n",
       "      <td>Serie A</td>\n",
       "      <td>Lazio</td>\n",
       "      <td>Serie A</td>\n",
       "      <td>2000-2001</td>\n",
       "      <td>56810000</td>\n",
       "    </tr>\n",
       "    <tr>\n",
       "      <th>2</th>\n",
       "      <td>Left Midfield</td>\n",
       "      <td>27</td>\n",
       "      <td>Arsenal</td>\n",
       "      <td>Premier League</td>\n",
       "      <td>FC Barcelona</td>\n",
       "      <td>LaLiga</td>\n",
       "      <td>2000-2001</td>\n",
       "      <td>40000000</td>\n",
       "    </tr>\n",
       "    <tr>\n",
       "      <th>3</th>\n",
       "      <td>Centre-Forward</td>\n",
       "      <td>31</td>\n",
       "      <td>Fiorentina</td>\n",
       "      <td>Serie A</td>\n",
       "      <td>AS Roma</td>\n",
       "      <td>Serie A</td>\n",
       "      <td>2000-2001</td>\n",
       "      <td>36150000</td>\n",
       "    </tr>\n",
       "    <tr>\n",
       "      <th>4</th>\n",
       "      <td>Centre-Forward</td>\n",
       "      <td>21</td>\n",
       "      <td>Real Madrid</td>\n",
       "      <td>LaLiga</td>\n",
       "      <td>Paris SG</td>\n",
       "      <td>Ligue 1</td>\n",
       "      <td>2000-2001</td>\n",
       "      <td>34500000</td>\n",
       "    </tr>\n",
       "  </tbody>\n",
       "</table>\n",
       "</div>"
      ],
      "text/plain": [
       "         Position  Age     Team_from     League_from       Team_to League_to  \\\n",
       "0  Right Midfield   27  FC Barcelona          LaLiga   Real Madrid    LaLiga   \n",
       "1  Centre-Forward   25         Parma         Serie A         Lazio   Serie A   \n",
       "2   Left Midfield   27       Arsenal  Premier League  FC Barcelona    LaLiga   \n",
       "3  Centre-Forward   31    Fiorentina         Serie A       AS Roma   Serie A   \n",
       "4  Centre-Forward   21   Real Madrid          LaLiga      Paris SG   Ligue 1   \n",
       "\n",
       "      Season  Transfer_fee  \n",
       "0  2000-2001      60000000  \n",
       "1  2000-2001      56810000  \n",
       "2  2000-2001      40000000  \n",
       "3  2000-2001      36150000  \n",
       "4  2000-2001      34500000  "
      ]
     },
     "execution_count": 2,
     "metadata": {},
     "output_type": "execute_result"
    }
   ],
   "source": [
    "class_df = df.drop(columns=[\"Unnamed: 0\",\"Name\", \"Market_value\"])\n",
    "class_df.head()"
   ]
  },
  {
   "cell_type": "markdown",
   "id": "9c6ec79f",
   "metadata": {},
   "source": [
    "Now we will add a column showing the bucket a transfer fee falls into. A classification machine learning algorithm cannot predict discrete values and is suited to predicting categorical values. Transfer_fee is obviously a discrete value, so we will use buckets to make this into a categorical value."
   ]
  },
  {
   "cell_type": "code",
   "execution_count": 3,
   "id": "e47c2d18",
   "metadata": {},
   "outputs": [
    {
     "data": {
      "text/plain": [
       "count    4.700000e+03\n",
       "mean     9.447586e+06\n",
       "std      1.043772e+07\n",
       "min      8.250000e+05\n",
       "25%      4.000000e+06\n",
       "50%      6.500000e+06\n",
       "75%      1.082000e+07\n",
       "max      2.220000e+08\n",
       "Name: Transfer_fee, dtype: float64"
      ]
     },
     "execution_count": 3,
     "metadata": {},
     "output_type": "execute_result"
    }
   ],
   "source": [
    "class_df[\"Transfer_fee\"].describe()"
   ]
  },
  {
   "cell_type": "code",
   "execution_count": 4,
   "id": "c56ac4f7",
   "metadata": {
    "collapsed": true
   },
   "outputs": [],
   "source": [
    "#params: function to create buckets for the transfer fee where data is the dataframe, and n is the number of buckets\n",
    "#returns: a new dataframe where \"bucket\" exists as a column and the \"Transfer_fee\" column is dropped\n",
    "def create_buckets(data, n):\n",
    "    out_df = data.copy()\n",
    "    out_df[\"bucket\"] = pd.qcut(out_df[\"Transfer_fee\"], q=n)\n",
    "    out_df = out_df.drop(columns=[\"Transfer_fee\"])\n",
    "    return out_df"
   ]
  },
  {
   "cell_type": "markdown",
   "id": "a1571530",
   "metadata": {},
   "source": [
    "#### Data Encoding"
   ]
  },
  {
   "cell_type": "markdown",
   "id": "1deeb0cf",
   "metadata": {},
   "source": [
    "A key problem with this dataset at the moment is that I have lots of categorical variables, but computers only see numbers. Thus, I need to encode my categorical variables to be numerical values. There are two options for each column, label encoding, in which I just assign each unique value in a column a unique number. This works well for ordinal categorical variables such as season because it the assignment of a unique number forces the algorithm to interpret unique relationships in the same order as what you would expect. (i.e. first season gets assigned 0 and second season gets assigned 1). However, this would not work well for something like Position because there is no ordinal relationship there. For columns where there is not an ordinal relationship, I will use one-hot encoding, in which I essentially create a dummy variable for each unique value in the column."
   ]
  },
  {
   "cell_type": "code",
   "execution_count": 7,
   "id": "1af81e98",
   "metadata": {},
   "outputs": [],
   "source": [
    "from sklearn.model_selection import train_test_split, GridSearchCV, cross_val_score, StratifiedKFold\n",
    "from sklearn.preprocessing import LabelEncoder\n",
    "import patsy as pts\n",
    "\n",
    "bucketed_df = create_buckets(class_df, 10)\n",
    "\n",
    "#Label Encoding on Season and Bucket columns\n",
    "season_le = LabelEncoder()\n",
    "bucketed_df['Season'] = season_le.fit_transform(bucketed_df['Season'])\n",
    "target_le = LabelEncoder().fit(bucketed_df['bucket'])\n",
    "bucketed_df['bucket'] = target_le.transform(bucketed_df['bucket'])\n",
    "\n",
    "#Performing one-hot encoding on Position, Team_from, League_from, Team_to, and League_to\n",
    "\n",
    "Y, X = pts.dmatrices('bucket ~ C(Position) + Age + C(Team_from) + C(League_from) + C(Team_to) + C(League_to) + Season',\n",
    "                    data = bucketed_df,\n",
    "                    return_type='dataframe')\n",
    "None"
   ]
  },
  {
   "cell_type": "code",
   "execution_count": 8,
   "id": "7b5df47d",
   "metadata": {
    "collapsed": true
   },
   "outputs": [],
   "source": [
    "np_Y = Y['bucket'].to_numpy()"
   ]
  },
  {
   "cell_type": "markdown",
   "id": "d48115c4",
   "metadata": {},
   "source": [
    "In the code cell below, I scale the data columns to have a mean of 0 and standard deviation of 1. I found that this led to a general improvement in the models performance, which makes sense because many of the columns of the input do not follow a normal distribution and some of them use different scales."
   ]
  },
  {
   "cell_type": "code",
   "execution_count": 9,
   "id": "273a6958",
   "metadata": {},
   "outputs": [
    {
     "data": {
      "text/html": [
       "<div>\n",
       "<style scoped>\n",
       "    .dataframe tbody tr th:only-of-type {\n",
       "        vertical-align: middle;\n",
       "    }\n",
       "\n",
       "    .dataframe tbody tr th {\n",
       "        vertical-align: top;\n",
       "    }\n",
       "\n",
       "    .dataframe thead th {\n",
       "        text-align: right;\n",
       "    }\n",
       "</style>\n",
       "<table border=\"1\" class=\"dataframe\">\n",
       "  <thead>\n",
       "    <tr style=\"text-align: right;\">\n",
       "      <th></th>\n",
       "      <th>Intercept</th>\n",
       "      <th>C(Position)[T.Central Midfield]</th>\n",
       "      <th>C(Position)[T.Centre-Back]</th>\n",
       "      <th>C(Position)[T.Centre-Forward]</th>\n",
       "      <th>C(Position)[T.Defensive Midfield]</th>\n",
       "      <th>C(Position)[T.Goalkeeper]</th>\n",
       "      <th>C(Position)[T.Left Midfield]</th>\n",
       "      <th>C(Position)[T.Left-Back]</th>\n",
       "      <th>C(Position)[T.Right Midfield]</th>\n",
       "      <th>C(Position)[T.Right-Back]</th>\n",
       "      <th>...</th>\n",
       "      <th>C(League_to)[T.Stars League]</th>\n",
       "      <th>C(League_to)[T.Super League]</th>\n",
       "      <th>C(League_to)[T.SuperLiga]</th>\n",
       "      <th>C(League_to)[T.Superligaen]</th>\n",
       "      <th>C(League_to)[T.Série A]</th>\n",
       "      <th>C(League_to)[T.Süper Lig]</th>\n",
       "      <th>C(League_to)[T.Torneo Final]</th>\n",
       "      <th>C(League_to)[T.UAE Gulf League]</th>\n",
       "      <th>Age</th>\n",
       "      <th>Season</th>\n",
       "    </tr>\n",
       "  </thead>\n",
       "  <tbody>\n",
       "    <tr>\n",
       "      <th>0</th>\n",
       "      <td>0.0</td>\n",
       "      <td>-0.340381</td>\n",
       "      <td>-0.423933</td>\n",
       "      <td>-0.635141</td>\n",
       "      <td>-0.309559</td>\n",
       "      <td>-0.199557</td>\n",
       "      <td>-0.285402</td>\n",
       "      <td>-0.224231</td>\n",
       "      <td>3.430997</td>\n",
       "      <td>-0.200133</td>\n",
       "      <td>...</td>\n",
       "      <td>-0.06371</td>\n",
       "      <td>-0.163246</td>\n",
       "      <td>-0.014588</td>\n",
       "      <td>-0.025273</td>\n",
       "      <td>-0.102642</td>\n",
       "      <td>-0.177145</td>\n",
       "      <td>-0.046176</td>\n",
       "      <td>-0.065372</td>\n",
       "      <td>0.823806</td>\n",
       "      <td>-1.645154</td>\n",
       "    </tr>\n",
       "    <tr>\n",
       "      <th>1</th>\n",
       "      <td>0.0</td>\n",
       "      <td>-0.340381</td>\n",
       "      <td>-0.423933</td>\n",
       "      <td>1.574454</td>\n",
       "      <td>-0.309559</td>\n",
       "      <td>-0.199557</td>\n",
       "      <td>-0.285402</td>\n",
       "      <td>-0.224231</td>\n",
       "      <td>-0.291460</td>\n",
       "      <td>-0.200133</td>\n",
       "      <td>...</td>\n",
       "      <td>-0.06371</td>\n",
       "      <td>-0.163246</td>\n",
       "      <td>-0.014588</td>\n",
       "      <td>-0.025273</td>\n",
       "      <td>-0.102642</td>\n",
       "      <td>-0.177145</td>\n",
       "      <td>-0.046176</td>\n",
       "      <td>-0.065372</td>\n",
       "      <td>0.204700</td>\n",
       "      <td>-1.645154</td>\n",
       "    </tr>\n",
       "    <tr>\n",
       "      <th>2</th>\n",
       "      <td>0.0</td>\n",
       "      <td>-0.340381</td>\n",
       "      <td>-0.423933</td>\n",
       "      <td>-0.635141</td>\n",
       "      <td>-0.309559</td>\n",
       "      <td>-0.199557</td>\n",
       "      <td>3.503832</td>\n",
       "      <td>-0.224231</td>\n",
       "      <td>-0.291460</td>\n",
       "      <td>-0.200133</td>\n",
       "      <td>...</td>\n",
       "      <td>-0.06371</td>\n",
       "      <td>-0.163246</td>\n",
       "      <td>-0.014588</td>\n",
       "      <td>-0.025273</td>\n",
       "      <td>-0.102642</td>\n",
       "      <td>-0.177145</td>\n",
       "      <td>-0.046176</td>\n",
       "      <td>-0.065372</td>\n",
       "      <td>0.823806</td>\n",
       "      <td>-1.645154</td>\n",
       "    </tr>\n",
       "    <tr>\n",
       "      <th>3</th>\n",
       "      <td>0.0</td>\n",
       "      <td>-0.340381</td>\n",
       "      <td>-0.423933</td>\n",
       "      <td>1.574454</td>\n",
       "      <td>-0.309559</td>\n",
       "      <td>-0.199557</td>\n",
       "      <td>-0.285402</td>\n",
       "      <td>-0.224231</td>\n",
       "      <td>-0.291460</td>\n",
       "      <td>-0.200133</td>\n",
       "      <td>...</td>\n",
       "      <td>-0.06371</td>\n",
       "      <td>-0.163246</td>\n",
       "      <td>-0.014588</td>\n",
       "      <td>-0.025273</td>\n",
       "      <td>-0.102642</td>\n",
       "      <td>-0.177145</td>\n",
       "      <td>-0.046176</td>\n",
       "      <td>-0.065372</td>\n",
       "      <td>2.062018</td>\n",
       "      <td>-1.645154</td>\n",
       "    </tr>\n",
       "    <tr>\n",
       "      <th>4</th>\n",
       "      <td>0.0</td>\n",
       "      <td>-0.340381</td>\n",
       "      <td>-0.423933</td>\n",
       "      <td>1.574454</td>\n",
       "      <td>-0.309559</td>\n",
       "      <td>-0.199557</td>\n",
       "      <td>-0.285402</td>\n",
       "      <td>-0.224231</td>\n",
       "      <td>-0.291460</td>\n",
       "      <td>-0.200133</td>\n",
       "      <td>...</td>\n",
       "      <td>-0.06371</td>\n",
       "      <td>-0.163246</td>\n",
       "      <td>-0.014588</td>\n",
       "      <td>-0.025273</td>\n",
       "      <td>-0.102642</td>\n",
       "      <td>-0.177145</td>\n",
       "      <td>-0.046176</td>\n",
       "      <td>-0.065372</td>\n",
       "      <td>-1.033512</td>\n",
       "      <td>-1.645154</td>\n",
       "    </tr>\n",
       "  </tbody>\n",
       "</table>\n",
       "<p>5 rows × 1086 columns</p>\n",
       "</div>"
      ],
      "text/plain": [
       "   Intercept  C(Position)[T.Central Midfield]  C(Position)[T.Centre-Back]  \\\n",
       "0        0.0                        -0.340381                   -0.423933   \n",
       "1        0.0                        -0.340381                   -0.423933   \n",
       "2        0.0                        -0.340381                   -0.423933   \n",
       "3        0.0                        -0.340381                   -0.423933   \n",
       "4        0.0                        -0.340381                   -0.423933   \n",
       "\n",
       "   C(Position)[T.Centre-Forward]  C(Position)[T.Defensive Midfield]  \\\n",
       "0                      -0.635141                          -0.309559   \n",
       "1                       1.574454                          -0.309559   \n",
       "2                      -0.635141                          -0.309559   \n",
       "3                       1.574454                          -0.309559   \n",
       "4                       1.574454                          -0.309559   \n",
       "\n",
       "   C(Position)[T.Goalkeeper]  C(Position)[T.Left Midfield]  \\\n",
       "0                  -0.199557                     -0.285402   \n",
       "1                  -0.199557                     -0.285402   \n",
       "2                  -0.199557                      3.503832   \n",
       "3                  -0.199557                     -0.285402   \n",
       "4                  -0.199557                     -0.285402   \n",
       "\n",
       "   C(Position)[T.Left-Back]  C(Position)[T.Right Midfield]  \\\n",
       "0                 -0.224231                       3.430997   \n",
       "1                 -0.224231                      -0.291460   \n",
       "2                 -0.224231                      -0.291460   \n",
       "3                 -0.224231                      -0.291460   \n",
       "4                 -0.224231                      -0.291460   \n",
       "\n",
       "   C(Position)[T.Right-Back]  ...  C(League_to)[T.Stars League]  \\\n",
       "0                  -0.200133  ...                      -0.06371   \n",
       "1                  -0.200133  ...                      -0.06371   \n",
       "2                  -0.200133  ...                      -0.06371   \n",
       "3                  -0.200133  ...                      -0.06371   \n",
       "4                  -0.200133  ...                      -0.06371   \n",
       "\n",
       "   C(League_to)[T.Super League]  C(League_to)[T.SuperLiga]  \\\n",
       "0                     -0.163246                  -0.014588   \n",
       "1                     -0.163246                  -0.014588   \n",
       "2                     -0.163246                  -0.014588   \n",
       "3                     -0.163246                  -0.014588   \n",
       "4                     -0.163246                  -0.014588   \n",
       "\n",
       "   C(League_to)[T.Superligaen]  C(League_to)[T.Série A]  \\\n",
       "0                    -0.025273                -0.102642   \n",
       "1                    -0.025273                -0.102642   \n",
       "2                    -0.025273                -0.102642   \n",
       "3                    -0.025273                -0.102642   \n",
       "4                    -0.025273                -0.102642   \n",
       "\n",
       "   C(League_to)[T.Süper Lig]  C(League_to)[T.Torneo Final]  \\\n",
       "0                  -0.177145                     -0.046176   \n",
       "1                  -0.177145                     -0.046176   \n",
       "2                  -0.177145                     -0.046176   \n",
       "3                  -0.177145                     -0.046176   \n",
       "4                  -0.177145                     -0.046176   \n",
       "\n",
       "   C(League_to)[T.UAE Gulf League]       Age    Season  \n",
       "0                        -0.065372  0.823806 -1.645154  \n",
       "1                        -0.065372  0.204700 -1.645154  \n",
       "2                        -0.065372  0.823806 -1.645154  \n",
       "3                        -0.065372  2.062018 -1.645154  \n",
       "4                        -0.065372 -1.033512 -1.645154  \n",
       "\n",
       "[5 rows x 1086 columns]"
      ]
     },
     "execution_count": 9,
     "metadata": {},
     "output_type": "execute_result"
    }
   ],
   "source": [
    "from sklearn.preprocessing import StandardScaler\n",
    "scaler = StandardScaler()\n",
    "X = pd.DataFrame(scaler.fit_transform(X),columns = X.columns)\n",
    "X.head()"
   ]
  },
  {
   "cell_type": "markdown",
   "id": "945d71b4",
   "metadata": {},
   "source": [
    "#### Custom Classification Report\n"
   ]
  },
  {
   "cell_type": "markdown",
   "id": "1df4ea95",
   "metadata": {},
   "source": [
    "I want to include cross validation in my method comparison, so I will write a quick function for a custom classification report using nested cross validation. This means that I will perform cross validation on 5 different folds of data (outer folds), and then I will perform a grid search on inner folds for each of the 5 outer folds in order to find optimal hyperparameters for each model."
   ]
  },
  {
   "cell_type": "code",
   "execution_count": 10,
   "id": "516ae038",
   "metadata": {
    "collapsed": true
   },
   "outputs": [],
   "source": [
    "from sklearn.metrics import classification_report, accuracy_score, make_scorer\n",
    "\n",
    "originalclass = []\n",
    "predictedclass = []\n",
    "\n",
    "def custom_classification_scoring(y_true, y_pred, is_training=True):\n",
    "    originalclass.extend(y_true)\n",
    "    predictedclass.extend(y_pred)\n",
    "    '''\n",
    "    print(\"originalclass\")\n",
    "    print(originalclass)\n",
    "    print(\"predictedclass\")\n",
    "    print(predictedclass)\n",
    "    '''\n",
    "    # Custom Accuracy function to measure the distance of the predicted value from the true value rather than a simple\n",
    "    # accuracy score that only determines if the datapoint was correctly classified or not\n",
    "    diff = np.abs(y_true - y_pred) / 10.0\n",
    "    score = (1.0 - diff)\n",
    "    ret_val = score.mean()\n",
    "    if is_training:\n",
    "        print(\"Mean Relative Accuracy of this outer fold is: \")\n",
    "        print(ret_val)\n",
    "    return ret_val\n",
    "\n",
    "def run_model(model, parameters, X, Y):\n",
    "    clf = GridSearchCV(estimator=model, param_grid=parameters, n_jobs = -1)\n",
    "    clf.fit(X, Y)\n",
    "    nested_score = cross_val_score(clf, X=X, y=Y, scoring=make_scorer(custom_classification_scoring), verbose=3).mean()\n",
    "    return classification_report(originalclass, predictedclass, zero_division=0), clf.best_params_, nested_score\n",
    "\n",
    "\n"
   ]
  },
  {
   "cell_type": "code",
   "execution_count": 11,
   "id": "c173d50f",
   "metadata": {
    "collapsed": true
   },
   "outputs": [],
   "source": [
    "X_train, X_test, y_train, y_test = train_test_split( X, np_Y, test_size=0.2, random_state=23)"
   ]
  },
  {
   "cell_type": "markdown",
   "id": "733d0065",
   "metadata": {},
   "source": [
    "Now that I have split my data into a training and testing set and written methods for cross validation, grid searching, and custom scoring, I am ready to compare different models."
   ]
  },
  {
   "cell_type": "markdown",
   "id": "77268f8f",
   "metadata": {},
   "source": [
    "## Classification Model Comparison"
   ]
  },
  {
   "cell_type": "markdown",
   "id": "00653d67",
   "metadata": {},
   "source": [
    "#### KNN"
   ]
  },
  {
   "cell_type": "code",
   "execution_count": 12,
   "id": "abaac965",
   "metadata": {},
   "outputs": [
    {
     "name": "stderr",
     "output_type": "stream",
     "text": [
      "[Parallel(n_jobs=1)]: Using backend SequentialBackend with 1 concurrent workers.\n"
     ]
    },
    {
     "name": "stdout",
     "output_type": "stream",
     "text": [
      "Mean Relative Accuracy of this outer fold is: \n",
      "0.7351063829787233\n",
      "[CV] END ................................ score: (test=0.735) total time=  11.3s\n"
     ]
    },
    {
     "name": "stderr",
     "output_type": "stream",
     "text": [
      "[Parallel(n_jobs=1)]: Done   1 out of   1 | elapsed:   11.3s remaining:    0.0s\n"
     ]
    },
    {
     "name": "stdout",
     "output_type": "stream",
     "text": [
      "Mean Relative Accuracy of this outer fold is: \n",
      "0.7398936170212768\n",
      "[CV] END ................................ score: (test=0.740) total time=  11.0s\n"
     ]
    },
    {
     "name": "stderr",
     "output_type": "stream",
     "text": [
      "[Parallel(n_jobs=1)]: Done   2 out of   2 | elapsed:   22.3s remaining:    0.0s\n"
     ]
    },
    {
     "name": "stdout",
     "output_type": "stream",
     "text": [
      "Mean Relative Accuracy of this outer fold is: \n",
      "0.7208776595744681\n",
      "[CV] END ................................ score: (test=0.721) total time=  11.0s\n",
      "Mean Relative Accuracy of this outer fold is: \n",
      "0.7232712765957447\n",
      "[CV] END ................................ score: (test=0.723) total time=  10.8s\n",
      "Mean Relative Accuracy of this outer fold is: \n",
      "0.7363031914893617\n",
      "[CV] END ................................ score: (test=0.736) total time=  11.2s\n",
      "{'metric': 'euclidean', 'n_neighbors': 8, 'weights': 'distance'}\n",
      "              precision    recall  f1-score   support\n",
      "\n",
      "         0.0       0.34      0.19      0.24       403\n",
      "         1.0       0.16      0.11      0.13       358\n",
      "         2.0       0.15      0.12      0.14       438\n",
      "         3.0       0.09      0.07      0.08       305\n",
      "         4.0       0.13      0.14      0.13       394\n",
      "         5.0       0.14      0.13      0.14       464\n",
      "         6.0       0.08      0.06      0.07       254\n",
      "         7.0       0.12      0.12      0.12       392\n",
      "         8.0       0.14      0.19      0.16       385\n",
      "         9.0       0.23      0.48      0.31       367\n",
      "\n",
      "    accuracy                           0.16      3760\n",
      "   macro avg       0.16      0.16      0.15      3760\n",
      "weighted avg       0.16      0.16      0.16      3760\n",
      "\n",
      "Mean Relative Accuracy of all outer folds is: \n",
      "0.731090425531915\n",
      "The accuracy on the test dataset is: \n"
     ]
    },
    {
     "name": "stderr",
     "output_type": "stream",
     "text": [
      "[Parallel(n_jobs=1)]: Done   5 out of   5 | elapsed:   55.3s finished\n"
     ]
    },
    {
     "name": "stdout",
     "output_type": "stream",
     "text": [
      "0.7243617021276597\n"
     ]
    }
   ],
   "source": [
    "from sklearn.neighbors import KNeighborsClassifier\n",
    "\n",
    "originalclass = []\n",
    "predictedclass = []\n",
    "\n",
    "params = {\n",
    "    'n_neighbors': np.arange(3, 16),\n",
    "    'weights': ['uniform', 'distance'],\n",
    "    'metric': ['euclidean']\n",
    "}\n",
    "\n",
    "knn_report, knn_best_params, knn_nested_score = run_model(KNeighborsClassifier(n_jobs = -1), params, X_train, y_train)\n",
    "print(knn_best_params)\n",
    "print(knn_report)\n",
    "print(\"Mean Relative Accuracy of all outer folds is: \")\n",
    "print(knn_nested_score)\n",
    "\n",
    "test_model = KNeighborsClassifier(n_neighbors=knn_best_params['n_neighbors'],\n",
    "                                  weights=knn_best_params['weights'],\n",
    "                                  metric=knn_best_params['metric'],\n",
    "                                  n_jobs = -1).fit(X_train, y_train)\n",
    "print(\"The accuracy on the test dataset is: \")\n",
    "print(custom_classification_scoring(y_test, test_model.predict(X_test), is_training=False))"
   ]
  },
  {
   "cell_type": "markdown",
   "id": "3dac8eba",
   "metadata": {},
   "source": [
    "We can see the results form KNN Classification above. We see the 'Mean Relative Accuracy' for each outer fold, the output of the classification report (which uses exact accuracy rather than the 'Mean Relative Accuracy'), and then we can see the average MRA on all folds and on the test set after being trained on the entire training set. We will now continue to repeat this process with various other classification methods."
   ]
  },
  {
   "cell_type": "markdown",
   "id": "0fcf5b3d",
   "metadata": {},
   "source": [
    "#### Random Forest"
   ]
  },
  {
   "cell_type": "code",
   "execution_count": 13,
   "id": "2b857389",
   "metadata": {},
   "outputs": [
    {
     "name": "stderr",
     "output_type": "stream",
     "text": [
      "[Parallel(n_jobs=1)]: Using backend SequentialBackend with 1 concurrent workers.\n"
     ]
    },
    {
     "name": "stdout",
     "output_type": "stream",
     "text": [
      "Mean Relative Accuracy of this outer fold is: \n",
      "0.8049202127659574\n",
      "[CV] END ................................ score: (test=0.805) total time= 1.8min\n"
     ]
    },
    {
     "name": "stderr",
     "output_type": "stream",
     "text": [
      "[Parallel(n_jobs=1)]: Done   1 out of   1 | elapsed:  1.8min remaining:    0.0s\n"
     ]
    },
    {
     "name": "stdout",
     "output_type": "stream",
     "text": [
      "Mean Relative Accuracy of this outer fold is: \n",
      "0.8021276595744682\n",
      "[CV] END ................................ score: (test=0.802) total time= 1.9min\n"
     ]
    },
    {
     "name": "stderr",
     "output_type": "stream",
     "text": [
      "[Parallel(n_jobs=1)]: Done   2 out of   2 | elapsed:  3.8min remaining:    0.0s\n"
     ]
    },
    {
     "name": "stdout",
     "output_type": "stream",
     "text": [
      "Mean Relative Accuracy of this outer fold is: \n",
      "0.8091755319148937\n",
      "[CV] END ................................ score: (test=0.809) total time= 2.1min\n",
      "Mean Relative Accuracy of this outer fold is: \n",
      "0.8021276595744682\n",
      "[CV] END ................................ score: (test=0.802) total time= 1.9min\n",
      "Mean Relative Accuracy of this outer fold is: \n",
      "0.8190159574468084\n",
      "[CV] END ................................ score: (test=0.819) total time= 2.0min\n",
      "{'bootstrap': True, 'max_depth': 50, 'max_features': 'sqrt', 'n_estimators': 200}\n",
      "              precision    recall  f1-score   support\n",
      "\n",
      "         0.0       0.44      0.81      0.57       403\n",
      "         1.0       0.27      0.16      0.20       358\n",
      "         2.0       0.22      0.25      0.24       438\n",
      "         3.0       0.13      0.06      0.08       305\n",
      "         4.0       0.13      0.08      0.10       394\n",
      "         5.0       0.19      0.25      0.22       464\n",
      "         6.0       0.12      0.04      0.05       254\n",
      "         7.0       0.20      0.19      0.19       392\n",
      "         8.0       0.20      0.20      0.20       385\n",
      "         9.0       0.38      0.54      0.45       367\n",
      "\n",
      "    accuracy                           0.27      3760\n",
      "   macro avg       0.23      0.26      0.23      3760\n",
      "weighted avg       0.23      0.27      0.24      3760\n",
      "\n",
      "Mean Relative Accuracy of all outer folds is: \n",
      "0.8074734042553192\n"
     ]
    },
    {
     "name": "stderr",
     "output_type": "stream",
     "text": [
      "[Parallel(n_jobs=1)]: Done   5 out of   5 | elapsed:  9.9min finished\n"
     ]
    },
    {
     "name": "stdout",
     "output_type": "stream",
     "text": [
      "The accuracy on the test dataset is: \n",
      "0.8089361702127661\n"
     ]
    }
   ],
   "source": [
    "from sklearn.ensemble import RandomForestClassifier\n",
    "\n",
    "originalclass = []\n",
    "predictedclass = []\n",
    "\n",
    "#I could do more hyperparamter tuning than this, but it honestly just takes way too long to run on my computer\n",
    "params = {\n",
    "    'bootstrap': [True],\n",
    "    'max_depth': [10, 50],\n",
    "    'max_features': ['auto', 'sqrt'],\n",
    "    'n_estimators': [200, 1000]\n",
    "}\n",
    "\n",
    "rf_report, rf_best_params, rf_nested_score = run_model(RandomForestClassifier(n_jobs = -1), params, X_train, y_train)\n",
    "print(rf_best_params)\n",
    "print(rf_report)\n",
    "print(\"Mean Relative Accuracy of all outer folds is: \")\n",
    "print(rf_nested_score)\n",
    "\n",
    "test_model = RandomForestClassifier(bootstrap=rf_best_params['bootstrap'],\n",
    "                                    max_depth=rf_best_params['max_depth'],\n",
    "                                    max_features=rf_best_params['max_features'],\n",
    "                                    n_estimators=rf_best_params['n_estimators'],\n",
    "                                    n_jobs = -1).fit(X_train, y_train)\n",
    "print(\"The accuracy on the test dataset is: \")\n",
    "print(custom_classification_scoring(y_test, test_model.predict(X_test), is_training=False))"
   ]
  },
  {
   "cell_type": "markdown",
   "id": "6d7e94ce",
   "metadata": {},
   "source": [
    "#### AdaBoost"
   ]
  },
  {
   "cell_type": "code",
   "execution_count": 14,
   "id": "88609212",
   "metadata": {},
   "outputs": [
    {
     "name": "stderr",
     "output_type": "stream",
     "text": [
      "[Parallel(n_jobs=1)]: Using backend SequentialBackend with 1 concurrent workers.\n"
     ]
    },
    {
     "name": "stdout",
     "output_type": "stream",
     "text": [
      "Mean Relative Accuracy of this outer fold is: \n",
      "0.7542553191489362\n",
      "[CV] END ................................ score: (test=0.754) total time= 2.1min\n"
     ]
    },
    {
     "name": "stderr",
     "output_type": "stream",
     "text": [
      "[Parallel(n_jobs=1)]: Done   1 out of   1 | elapsed:  2.1min remaining:    0.0s\n"
     ]
    },
    {
     "name": "stdout",
     "output_type": "stream",
     "text": [
      "Mean Relative Accuracy of this outer fold is: \n",
      "0.7631648936170214\n",
      "[CV] END ................................ score: (test=0.763) total time= 2.1min\n"
     ]
    },
    {
     "name": "stderr",
     "output_type": "stream",
     "text": [
      "[Parallel(n_jobs=1)]: Done   2 out of   2 | elapsed:  4.2min remaining:    0.0s\n"
     ]
    },
    {
     "name": "stdout",
     "output_type": "stream",
     "text": [
      "Mean Relative Accuracy of this outer fold is: \n",
      "0.7515957446808511\n",
      "[CV] END ................................ score: (test=0.752) total time= 2.2min\n",
      "Mean Relative Accuracy of this outer fold is: \n",
      "0.7640957446808511\n",
      "[CV] END ................................ score: (test=0.764) total time= 2.1min\n",
      "Mean Relative Accuracy of this outer fold is: \n",
      "0.7664893617021278\n",
      "[CV] END ................................ score: (test=0.766) total time= 2.1min\n",
      "{'learning_rate': 0.01, 'n_estimators': 200}\n",
      "              precision    recall  f1-score   support\n",
      "\n",
      "         0.0       0.35      0.98      0.51       403\n",
      "         1.0       0.32      0.19      0.24       358\n",
      "         2.0       0.20      0.44      0.27       438\n",
      "         3.0       0.00      0.00      0.00       305\n",
      "         4.0       0.00      0.00      0.00       394\n",
      "         5.0       0.17      0.49      0.25       464\n",
      "         6.0       0.00      0.00      0.00       254\n",
      "         7.0       0.09      0.00      0.00       392\n",
      "         8.0       0.18      0.05      0.08       385\n",
      "         9.0       0.25      0.01      0.02       367\n",
      "\n",
      "    accuracy                           0.24      3760\n",
      "   macro avg       0.16      0.22      0.14      3760\n",
      "weighted avg       0.17      0.24      0.15      3760\n",
      "\n",
      "Mean Relative Accuracy of all outer folds is: \n",
      "0.7599202127659576\n"
     ]
    },
    {
     "name": "stderr",
     "output_type": "stream",
     "text": [
      "[Parallel(n_jobs=1)]: Done   5 out of   5 | elapsed: 10.6min finished\n"
     ]
    },
    {
     "name": "stdout",
     "output_type": "stream",
     "text": [
      "The accuracy on the test dataset is: \n",
      "0.7672340425531915\n"
     ]
    }
   ],
   "source": [
    "from sklearn.ensemble import AdaBoostClassifier\n",
    "\n",
    "originalclass = []\n",
    "predictedclass = []\n",
    "\n",
    "#I could do more hyperparamter tuning than this, but it honestly just takes way too long to run on my computer\n",
    "params = {\n",
    "    'n_estimators': [100, 200],\n",
    "    'learning_rate': [0.001, 0.01, 0.1, 0.2, 0.5]\n",
    "}\n",
    "\n",
    "ada_report, ada_best_params, ada_nested_score = run_model(AdaBoostClassifier(), params, X_train, y_train)\n",
    "print(ada_best_params)\n",
    "print(ada_report)\n",
    "print(\"Mean Relative Accuracy of all outer folds is: \")\n",
    "print(ada_nested_score)\n",
    "\n",
    "test_model = AdaBoostClassifier(learning_rate=ada_best_params['learning_rate'],\n",
    "                                n_estimators=ada_best_params['n_estimators']).fit(X_train, y_train)\n",
    "print(\"The accuracy on the test dataset is: \")\n",
    "print(custom_classification_scoring(y_test, test_model.predict(X_test), is_training=False))"
   ]
  },
  {
   "cell_type": "markdown",
   "id": "7a55cce9",
   "metadata": {},
   "source": [
    "#### Support Vector Machine"
   ]
  },
  {
   "cell_type": "code",
   "execution_count": 15,
   "id": "a4a700c1",
   "metadata": {},
   "outputs": [
    {
     "name": "stderr",
     "output_type": "stream",
     "text": [
      "[Parallel(n_jobs=1)]: Using backend SequentialBackend with 1 concurrent workers.\n"
     ]
    },
    {
     "name": "stdout",
     "output_type": "stream",
     "text": [
      "Mean Relative Accuracy of this outer fold is: \n",
      "0.7868351063829788\n",
      "[CV] END ................................ score: (test=0.787) total time= 4.8min\n"
     ]
    },
    {
     "name": "stderr",
     "output_type": "stream",
     "text": [
      "[Parallel(n_jobs=1)]: Done   1 out of   1 | elapsed:  4.8min remaining:    0.0s\n"
     ]
    },
    {
     "name": "stdout",
     "output_type": "stream",
     "text": [
      "Mean Relative Accuracy of this outer fold is: \n",
      "0.7848404255319149\n",
      "[CV] END ................................ score: (test=0.785) total time= 4.7min\n"
     ]
    },
    {
     "name": "stderr",
     "output_type": "stream",
     "text": [
      "[Parallel(n_jobs=1)]: Done   2 out of   2 | elapsed:  9.5min remaining:    0.0s\n"
     ]
    },
    {
     "name": "stdout",
     "output_type": "stream",
     "text": [
      "Mean Relative Accuracy of this outer fold is: \n",
      "0.7908244680851064\n",
      "[CV] END ................................ score: (test=0.791) total time= 5.1min\n",
      "Mean Relative Accuracy of this outer fold is: \n",
      "0.785372340425532\n",
      "[CV] END ................................ score: (test=0.785) total time= 4.6min\n",
      "Mean Relative Accuracy of this outer fold is: \n",
      "0.7970744680851064\n",
      "[CV] END ................................ score: (test=0.797) total time= 4.6min\n",
      "{'C': 0.5, 'gamma': 0.1, 'kernel': 'linear'}\n",
      "              precision    recall  f1-score   support\n",
      "\n",
      "         0.0       0.43      0.36      0.39       403\n",
      "         1.0       0.19      0.21      0.20       358\n",
      "         2.0       0.16      0.17      0.17       438\n",
      "         3.0       0.12      0.10      0.11       305\n",
      "         4.0       0.12      0.13      0.13       394\n",
      "         5.0       0.18      0.18      0.18       464\n",
      "         6.0       0.09      0.08      0.08       254\n",
      "         7.0       0.15      0.15      0.15       392\n",
      "         8.0       0.20      0.20      0.20       385\n",
      "         9.0       0.46      0.50      0.48       367\n",
      "\n",
      "    accuracy                           0.21      3760\n",
      "   macro avg       0.21      0.21      0.21      3760\n",
      "weighted avg       0.21      0.21      0.21      3760\n",
      "\n",
      "Mean Relative Accuracy of all outer folds is: \n",
      "0.7889893617021277\n"
     ]
    },
    {
     "name": "stderr",
     "output_type": "stream",
     "text": [
      "[Parallel(n_jobs=1)]: Done   5 out of   5 | elapsed: 23.8min finished\n"
     ]
    },
    {
     "name": "stdout",
     "output_type": "stream",
     "text": [
      "The accuracy on the test dataset is: \n",
      "0.7888297872340425\n"
     ]
    }
   ],
   "source": [
    "from sklearn.svm import SVC\n",
    "\n",
    "originalclass = []\n",
    "predictedclass = []\n",
    "\n",
    "params = {\n",
    "    'C': [0.1,0.5,1],\n",
    "    'gamma': [0.1,0.5,1.0],\n",
    "    'kernel': ['rbf','linear']\n",
    "}\n",
    "\n",
    "svm_report, svm_best_params, svm_nested_score = run_model(SVC(), params, X_train, y_train)\n",
    "print(svm_best_params)\n",
    "print(svm_report)\n",
    "print(\"Mean Relative Accuracy of all outer folds is: \")\n",
    "print(svm_nested_score)\n",
    "\n",
    "test_model = SVC(C=svm_best_params['C'],\n",
    "                 gamma=svm_best_params['gamma'],\n",
    "                 kernel=svm_best_params['kernel']).fit(X_train, y_train)\n",
    "print(\"The accuracy on the test dataset is: \")\n",
    "print(custom_classification_scoring(y_test, test_model.predict(X_test), is_training=False))"
   ]
  },
  {
   "cell_type": "markdown",
   "id": "51cb6741",
   "metadata": {},
   "source": [
    "#### Gaussian Naive Bayes"
   ]
  },
  {
   "cell_type": "code",
   "execution_count": 16,
   "id": "6b7b9667",
   "metadata": {},
   "outputs": [
    {
     "name": "stderr",
     "output_type": "stream",
     "text": [
      "[Parallel(n_jobs=1)]: Using backend SequentialBackend with 1 concurrent workers.\n"
     ]
    },
    {
     "name": "stdout",
     "output_type": "stream",
     "text": [
      "Mean Relative Accuracy of this outer fold is: \n",
      "0.7308510638297873\n",
      "[CV] END ................................ score: (test=0.731) total time=   2.0s\n"
     ]
    },
    {
     "name": "stderr",
     "output_type": "stream",
     "text": [
      "[Parallel(n_jobs=1)]: Done   1 out of   1 | elapsed:    2.0s remaining:    0.0s\n"
     ]
    },
    {
     "name": "stdout",
     "output_type": "stream",
     "text": [
      "Mean Relative Accuracy of this outer fold is: \n",
      "0.7308510638297872\n",
      "[CV] END ................................ score: (test=0.731) total time=   2.0s\n"
     ]
    },
    {
     "name": "stderr",
     "output_type": "stream",
     "text": [
      "[Parallel(n_jobs=1)]: Done   2 out of   2 | elapsed:    3.9s remaining:    0.0s\n"
     ]
    },
    {
     "name": "stdout",
     "output_type": "stream",
     "text": [
      "Mean Relative Accuracy of this outer fold is: \n",
      "0.7417553191489361\n",
      "[CV] END ................................ score: (test=0.742) total time=   2.1s\n",
      "Mean Relative Accuracy of this outer fold is: \n",
      "0.730186170212766\n",
      "[CV] END ................................ score: (test=0.730) total time=   2.5s\n",
      "Mean Relative Accuracy of this outer fold is: \n",
      "0.7400265957446809\n",
      "[CV] END ................................ score: (test=0.740) total time=   2.1s\n",
      "{'var_smoothing': 1e-05}\n",
      "              precision    recall  f1-score   support\n",
      "\n",
      "         0.0       0.47      0.15      0.23       403\n",
      "         1.0       0.21      0.11      0.15       358\n",
      "         2.0       0.23      0.07      0.11       438\n",
      "         3.0       0.15      0.11      0.13       305\n",
      "         4.0       0.16      0.09      0.12       394\n",
      "         5.0       0.16      0.07      0.09       464\n",
      "         6.0       0.10      0.20      0.13       254\n",
      "         7.0       0.12      0.09      0.10       392\n",
      "         8.0       0.13      0.20      0.16       385\n",
      "         9.0       0.24      0.79      0.37       367\n",
      "\n",
      "    accuracy                           0.18      3760\n",
      "   macro avg       0.20      0.19      0.16      3760\n",
      "weighted avg       0.20      0.18      0.16      3760\n",
      "\n",
      "Mean Relative Accuracy of all outer folds is: \n",
      "0.7347340425531914\n",
      "The accuracy on the test dataset is: \n",
      "0.7159574468085106\n"
     ]
    },
    {
     "name": "stderr",
     "output_type": "stream",
     "text": [
      "[Parallel(n_jobs=1)]: Done   5 out of   5 | elapsed:   10.6s finished\n"
     ]
    }
   ],
   "source": [
    "from sklearn.naive_bayes import GaussianNB\n",
    "originalclass = []\n",
    "predictedclass = []\n",
    "\n",
    "params = {'var_smoothing': np.logspace(0,-9, num=10)}\n",
    "\n",
    "gnb_report, gnb_best_params, gnb_nested_score = run_model(GaussianNB(), params, X_train, y_train)\n",
    "print(gnb_best_params)\n",
    "print(gnb_report)\n",
    "print(\"Mean Relative Accuracy of all outer folds is: \")\n",
    "print(gnb_nested_score)\n",
    "\n",
    "test_model = GaussianNB(var_smoothing=gnb_best_params['var_smoothing']).fit(X_train, y_train)\n",
    "print(\"The accuracy on the test dataset is: \")\n",
    "print(custom_classification_scoring(y_test, test_model.predict(X_test), is_training=False))"
   ]
  },
  {
   "cell_type": "markdown",
   "id": "4b09d1c0",
   "metadata": {},
   "source": [
    "#### Neural Network"
   ]
  },
  {
   "cell_type": "code",
   "execution_count": 17,
   "id": "bc02ecb0",
   "metadata": {},
   "outputs": [
    {
     "name": "stderr",
     "output_type": "stream",
     "text": [
      "[Parallel(n_jobs=1)]: Using backend SequentialBackend with 1 concurrent workers.\n"
     ]
    },
    {
     "name": "stdout",
     "output_type": "stream",
     "text": [
      "Mean Relative Accuracy of this outer fold is: \n",
      "0.7867021276595745\n",
      "[CV] END ................................ score: (test=0.787) total time= 6.1min\n"
     ]
    },
    {
     "name": "stderr",
     "output_type": "stream",
     "text": [
      "[Parallel(n_jobs=1)]: Done   1 out of   1 | elapsed:  6.1min remaining:    0.0s\n"
     ]
    },
    {
     "name": "stdout",
     "output_type": "stream",
     "text": [
      "Mean Relative Accuracy of this outer fold is: \n",
      "0.7751329787234044\n",
      "[CV] END ................................ score: (test=0.775) total time= 6.4min\n"
     ]
    },
    {
     "name": "stderr",
     "output_type": "stream",
     "text": [
      "[Parallel(n_jobs=1)]: Done   2 out of   2 | elapsed: 12.5min remaining:    0.0s\n"
     ]
    },
    {
     "name": "stdout",
     "output_type": "stream",
     "text": [
      "Mean Relative Accuracy of this outer fold is: \n",
      "0.788031914893617\n",
      "[CV] END ................................ score: (test=0.788) total time= 7.3min\n",
      "Mean Relative Accuracy of this outer fold is: \n",
      "0.7844414893617021\n",
      "[CV] END ................................ score: (test=0.784) total time= 7.2min\n",
      "Mean Relative Accuracy of this outer fold is: \n",
      "0.798404255319149\n",
      "[CV] END ................................ score: (test=0.798) total time= 6.1min\n",
      "{'activation': 'tanh', 'alpha': 0.0001, 'hidden_layer_sizes': (10, 30, 10), 'learning_rate': 'adaptive', 'solver': 'sgd'}\n",
      "              precision    recall  f1-score   support\n",
      "\n",
      "         0.0       0.35      0.38      0.36       403\n",
      "         1.0       0.14      0.15      0.15       358\n",
      "         2.0       0.18      0.17      0.18       438\n",
      "         3.0       0.09      0.08      0.08       305\n",
      "         4.0       0.14      0.12      0.13       394\n",
      "         5.0       0.15      0.16      0.15       464\n",
      "         6.0       0.09      0.05      0.07       254\n",
      "         7.0       0.15      0.13      0.14       392\n",
      "         8.0       0.22      0.24      0.23       385\n",
      "         9.0       0.38      0.54      0.44       367\n",
      "\n",
      "    accuracy                           0.21      3760\n",
      "   macro avg       0.19      0.20      0.19      3760\n",
      "weighted avg       0.19      0.21      0.20      3760\n",
      "\n",
      "Mean Relative Accuracy of all outer folds is: \n",
      "0.7865425531914894\n"
     ]
    },
    {
     "name": "stderr",
     "output_type": "stream",
     "text": [
      "[Parallel(n_jobs=1)]: Done   5 out of   5 | elapsed: 33.2min finished\n"
     ]
    },
    {
     "name": "stdout",
     "output_type": "stream",
     "text": [
      "The accuracy on the test dataset is: \n",
      "0.7930851063829787\n"
     ]
    }
   ],
   "source": [
    "from sklearn.neural_network import MLPClassifier\n",
    "from warnings import simplefilter\n",
    "from sklearn.exceptions import ConvergenceWarning\n",
    "simplefilter(\"ignore\", category=ConvergenceWarning)\n",
    "originalclass = []\n",
    "predictedclass = []\n",
    "\n",
    "params = {\n",
    "    'hidden_layer_sizes': [(10,30,10),(20,)],\n",
    "    'activation': ['tanh', 'relu'],\n",
    "    'solver': ['sgd', 'adam'],\n",
    "    'alpha': [0.0001, 0.05],\n",
    "    'learning_rate': ['constant','adaptive'],\n",
    "}\n",
    "\n",
    "mlp_report, mlp_best_params, mlp_nested_score = run_model(MLPClassifier(verbose=False), params, X_train, y_train)\n",
    "print(mlp_best_params)\n",
    "print(mlp_report)\n",
    "print(\"Mean Relative Accuracy of all outer folds is: \")\n",
    "print(mlp_nested_score)\n",
    "\n",
    "test_model = MLPClassifier(verbose=False,\n",
    "                           learning_rate=mlp_best_params['learning_rate'],\n",
    "                           activation=mlp_best_params['activation'],\n",
    "                           hidden_layer_sizes=mlp_best_params['hidden_layer_sizes'],\n",
    "                           solver=mlp_best_params['solver'],\n",
    "                           alpha=mlp_best_params['alpha']).fit(X_train, y_train)\n",
    "print(\"The accuracy on the test dataset is: \")\n",
    "print(custom_classification_scoring(y_test, test_model.predict(X_test), is_training=False))"
   ]
  },
  {
   "cell_type": "markdown",
   "id": "5b8bd22d",
   "metadata": {},
   "source": [
    "#### RF Classification Visualization"
   ]
  },
  {
   "cell_type": "markdown",
   "id": "c868d83e",
   "metadata": {},
   "source": [
    "Based on both the Mean Relative Accuracy on all outer folds on the training dataset and then also on the testing dataset, the Random Forest Classifier performs the best. Here's a Graph of the Random Forest Classifier's predicted output vs actual value on the test set when trained on the entire dataset."
   ]
  },
  {
   "cell_type": "code",
   "execution_count": 18,
   "id": "299cfbb7",
   "metadata": {
    "collapsed": true
   },
   "outputs": [],
   "source": [
    "test_model = RandomForestClassifier(bootstrap=rf_best_params['bootstrap'],\n",
    "                                    max_depth=rf_best_params['max_depth'],\n",
    "                                    max_features=rf_best_params['max_features'],\n",
    "                                    n_estimators=rf_best_params['n_estimators'],\n",
    "                                    n_jobs = -1).fit(X_train, y_train)\n",
    "plotting_data = pd.DataFrame({'true_vals': y_test, 'predicted_vals': test_model.predict(X_test)})"
   ]
  },
  {
   "cell_type": "code",
   "execution_count": 19,
   "id": "b3ed5d9d",
   "metadata": {
    "collapsed": true
   },
   "outputs": [],
   "source": [
    "counts = plotting_data.value_counts()\n",
    "counts_dic = counts.to_dict()\n",
    "plotting_data['count'] = np.zeros((plotting_data.shape[0],))\n",
    "for index, row in plotting_data.iterrows():\n",
    "    row['count'] = counts_dic[(row['true_vals'], row['predicted_vals'])]"
   ]
  },
  {
   "cell_type": "code",
   "execution_count": 20,
   "id": "6e38438d",
   "metadata": {},
   "outputs": [
    {
     "data": {
      "text/plain": [
       "81.0    81\n",
       "16.0    80\n",
       "7.0     63\n",
       "60.0    60\n",
       "17.0    51\n",
       "12.0    48\n",
       "48.0    48\n",
       "14.0    42\n",
       "21.0    42\n",
       "13.0    39\n",
       "6.0     36\n",
       "3.0     36\n",
       "11.0    33\n",
       "32.0    32\n",
       "8.0     32\n",
       "15.0    30\n",
       "26.0    26\n",
       "2.0     26\n",
       "23.0    23\n",
       "10.0    20\n",
       "5.0     20\n",
       "19.0    19\n",
       "18.0    18\n",
       "9.0     18\n",
       "4.0     12\n",
       "1.0      5\n",
       "Name: count, dtype: int64"
      ]
     },
     "execution_count": 20,
     "metadata": {},
     "output_type": "execute_result"
    }
   ],
   "source": [
    "plotting_data['count'].value_counts()"
   ]
  },
  {
   "cell_type": "code",
   "execution_count": 21,
   "id": "f809799c",
   "metadata": {},
   "outputs": [
    {
     "data": {
      "image/png": "[encoded data removed]",
      "text/plain": [
       "<Figure size 432x288 with 1 Axes>"
      ]
     },
     "metadata": {
      "needs_background": "light"
     },
     "output_type": "display_data"
    }
   ],
   "source": [
    "sns.scatterplot(x='true_vals', y='predicted_vals',\n",
    "             data = plotting_data, size='count', sizes=(0, 500)\n",
    "             ).set_title('True vs Predicted Values with random forest classifier')\n",
    "None"
   ]
  },
  {
   "cell_type": "markdown",
   "id": "c1ba9352",
   "metadata": {},
   "source": [
    "Most predictions do seem to be pretty close to their true value. Obviously, some are very far off, but the accuracy achieved is surprisingly good for how little data we have."
   ]
  },
  {
   "cell_type": "markdown",
   "id": "d3fad382",
   "metadata": {},
   "source": [
    "## Regression Modeling"
   ]
  },
  {
   "cell_type": "markdown",
   "id": "49823c06",
   "metadata": {},
   "source": [
    "Now I will try to solve the same problem with a slightly different approach. I will treat the problem as regression rather than classification, still trying to predict a player's transfer fee. Note, I will need to use slightly different metrics to evaluate these models because the 'Mean Relative Accuracy' from the classification problems is no longer applicable due to this being a regression problem rather than classification into 10 different categories. The scoring that I have chosen to use is the classic R Squared metric for regression. I have also included information about the explained variance in each outer fold. Other than that, the cross validation process is very similar to what it was when performing classification."
   ]
  },
  {
   "cell_type": "code",
   "execution_count": 22,
   "id": "c97a6fb2",
   "metadata": {},
   "outputs": [
    {
     "data": {
      "text/html": [
       "<div>\n",
       "<style scoped>\n",
       "    .dataframe tbody tr th:only-of-type {\n",
       "        vertical-align: middle;\n",
       "    }\n",
       "\n",
       "    .dataframe tbody tr th {\n",
       "        vertical-align: top;\n",
       "    }\n",
       "\n",
       "    .dataframe thead th {\n",
       "        text-align: right;\n",
       "    }\n",
       "</style>\n",
       "<table border=\"1\" class=\"dataframe\">\n",
       "  <thead>\n",
       "    <tr style=\"text-align: right;\">\n",
       "      <th></th>\n",
       "      <th>Position</th>\n",
       "      <th>Age</th>\n",
       "      <th>Team_from</th>\n",
       "      <th>League_from</th>\n",
       "      <th>Team_to</th>\n",
       "      <th>League_to</th>\n",
       "      <th>Season</th>\n",
       "      <th>Transfer_fee</th>\n",
       "    </tr>\n",
       "  </thead>\n",
       "  <tbody>\n",
       "    <tr>\n",
       "      <th>0</th>\n",
       "      <td>Right Midfield</td>\n",
       "      <td>27</td>\n",
       "      <td>FC Barcelona</td>\n",
       "      <td>LaLiga</td>\n",
       "      <td>Real Madrid</td>\n",
       "      <td>LaLiga</td>\n",
       "      <td>0</td>\n",
       "      <td>60000000</td>\n",
       "    </tr>\n",
       "    <tr>\n",
       "      <th>157</th>\n",
       "      <td>Left Midfield</td>\n",
       "      <td>23</td>\n",
       "      <td>Atlético Madrid</td>\n",
       "      <td>LaLiga2</td>\n",
       "      <td>Real Madrid</td>\n",
       "      <td>LaLiga</td>\n",
       "      <td>0</td>\n",
       "      <td>3500000</td>\n",
       "    </tr>\n",
       "    <tr>\n",
       "      <th>158</th>\n",
       "      <td>Defensive Midfield</td>\n",
       "      <td>24</td>\n",
       "      <td>Hamburger SV</td>\n",
       "      <td>1.Bundesliga</td>\n",
       "      <td>Everton</td>\n",
       "      <td>Premier League</td>\n",
       "      <td>0</td>\n",
       "      <td>3500000</td>\n",
       "    </tr>\n",
       "    <tr>\n",
       "      <th>159</th>\n",
       "      <td>Centre-Forward</td>\n",
       "      <td>23</td>\n",
       "      <td>Busan IPark</td>\n",
       "      <td>Korea, South</td>\n",
       "      <td>Perugia</td>\n",
       "      <td>Serie A</td>\n",
       "      <td>0</td>\n",
       "      <td>3500000</td>\n",
       "    </tr>\n",
       "    <tr>\n",
       "      <th>160</th>\n",
       "      <td>Attacking Midfield</td>\n",
       "      <td>27</td>\n",
       "      <td>Sevilla FC</td>\n",
       "      <td>LaLiga2</td>\n",
       "      <td>AEK Athens</td>\n",
       "      <td>Super League</td>\n",
       "      <td>0</td>\n",
       "      <td>3500000</td>\n",
       "    </tr>\n",
       "    <tr>\n",
       "      <th>...</th>\n",
       "      <td>...</td>\n",
       "      <td>...</td>\n",
       "      <td>...</td>\n",
       "      <td>...</td>\n",
       "      <td>...</td>\n",
       "      <td>...</td>\n",
       "      <td>...</td>\n",
       "      <td>...</td>\n",
       "    </tr>\n",
       "    <tr>\n",
       "      <th>4541</th>\n",
       "      <td>Left Midfield</td>\n",
       "      <td>23</td>\n",
       "      <td>Norwich</td>\n",
       "      <td>Championship</td>\n",
       "      <td>Cardiff</td>\n",
       "      <td>Premier League</td>\n",
       "      <td>18</td>\n",
       "      <td>11400000</td>\n",
       "    </tr>\n",
       "    <tr>\n",
       "      <th>4542</th>\n",
       "      <td>Attacking Midfield</td>\n",
       "      <td>25</td>\n",
       "      <td>Bristol City</td>\n",
       "      <td>Championship</td>\n",
       "      <td>Cardiff</td>\n",
       "      <td>Premier League</td>\n",
       "      <td>18</td>\n",
       "      <td>11350000</td>\n",
       "    </tr>\n",
       "    <tr>\n",
       "      <th>4543</th>\n",
       "      <td>Attacking Midfield</td>\n",
       "      <td>20</td>\n",
       "      <td>Sheffield Utd.</td>\n",
       "      <td>Championship</td>\n",
       "      <td>Bournemouth</td>\n",
       "      <td>Premier League</td>\n",
       "      <td>18</td>\n",
       "      <td>11300000</td>\n",
       "    </tr>\n",
       "    <tr>\n",
       "      <th>4545</th>\n",
       "      <td>Right Midfield</td>\n",
       "      <td>26</td>\n",
       "      <td>Huddersfield</td>\n",
       "      <td>Premier League</td>\n",
       "      <td>Stoke City</td>\n",
       "      <td>Championship</td>\n",
       "      <td>18</td>\n",
       "      <td>11200000</td>\n",
       "    </tr>\n",
       "    <tr>\n",
       "      <th>4699</th>\n",
       "      <td>Centre-Back</td>\n",
       "      <td>27</td>\n",
       "      <td>Swansea</td>\n",
       "      <td>Championship</td>\n",
       "      <td>West Brom</td>\n",
       "      <td>Championship</td>\n",
       "      <td>18</td>\n",
       "      <td>4500000</td>\n",
       "    </tr>\n",
       "  </tbody>\n",
       "</table>\n",
       "<p>4700 rows × 8 columns</p>\n",
       "</div>"
      ],
      "text/plain": [
       "                Position  Age        Team_from     League_from      Team_to  \\\n",
       "0         Right Midfield   27     FC Barcelona          LaLiga  Real Madrid   \n",
       "157        Left Midfield   23  Atlético Madrid         LaLiga2  Real Madrid   \n",
       "158   Defensive Midfield   24     Hamburger SV    1.Bundesliga      Everton   \n",
       "159       Centre-Forward   23      Busan IPark    Korea, South      Perugia   \n",
       "160   Attacking Midfield   27       Sevilla FC         LaLiga2   AEK Athens   \n",
       "...                  ...  ...              ...             ...          ...   \n",
       "4541       Left Midfield   23          Norwich    Championship      Cardiff   \n",
       "4542  Attacking Midfield   25     Bristol City    Championship      Cardiff   \n",
       "4543  Attacking Midfield   20   Sheffield Utd.    Championship  Bournemouth   \n",
       "4545      Right Midfield   26     Huddersfield  Premier League   Stoke City   \n",
       "4699         Centre-Back   27          Swansea    Championship    West Brom   \n",
       "\n",
       "           League_to  Season  Transfer_fee  \n",
       "0             LaLiga       0      60000000  \n",
       "157           LaLiga       0       3500000  \n",
       "158   Premier League       0       3500000  \n",
       "159          Serie A       0       3500000  \n",
       "160     Super League       0       3500000  \n",
       "...              ...     ...           ...  \n",
       "4541  Premier League      18      11400000  \n",
       "4542  Premier League      18      11350000  \n",
       "4543  Premier League      18      11300000  \n",
       "4545    Championship      18      11200000  \n",
       "4699    Championship      18       4500000  \n",
       "\n",
       "[4700 rows x 8 columns]"
      ]
     },
     "execution_count": 22,
     "metadata": {},
     "output_type": "execute_result"
    }
   ],
   "source": [
    "reg_season_le = LabelEncoder()\n",
    "class_df['Season'] = reg_season_le.fit_transform(class_df['Season'])\n",
    "\n",
    "class_df.sort_values('Season')"
   ]
  },
  {
   "cell_type": "code",
   "execution_count": 23,
   "id": "608d0828",
   "metadata": {},
   "outputs": [
    {
     "data": {
      "text/html": [
       "<div>\n",
       "<style scoped>\n",
       "    .dataframe tbody tr th:only-of-type {\n",
       "        vertical-align: middle;\n",
       "    }\n",
       "\n",
       "    .dataframe tbody tr th {\n",
       "        vertical-align: top;\n",
       "    }\n",
       "\n",
       "    .dataframe thead th {\n",
       "        text-align: right;\n",
       "    }\n",
       "</style>\n",
       "<table border=\"1\" class=\"dataframe\">\n",
       "  <thead>\n",
       "    <tr style=\"text-align: right;\">\n",
       "      <th></th>\n",
       "      <th>Intercept</th>\n",
       "      <th>C(Position)[T.Central Midfield]</th>\n",
       "      <th>C(Position)[T.Centre-Back]</th>\n",
       "      <th>C(Position)[T.Centre-Forward]</th>\n",
       "      <th>C(Position)[T.Defensive Midfield]</th>\n",
       "      <th>C(Position)[T.Goalkeeper]</th>\n",
       "      <th>C(Position)[T.Left Midfield]</th>\n",
       "      <th>C(Position)[T.Left-Back]</th>\n",
       "      <th>C(Position)[T.Right Midfield]</th>\n",
       "      <th>C(Position)[T.Right-Back]</th>\n",
       "      <th>...</th>\n",
       "      <th>C(League_to)[T.Stars League]</th>\n",
       "      <th>C(League_to)[T.Super League]</th>\n",
       "      <th>C(League_to)[T.SuperLiga]</th>\n",
       "      <th>C(League_to)[T.Superligaen]</th>\n",
       "      <th>C(League_to)[T.Série A]</th>\n",
       "      <th>C(League_to)[T.Süper Lig]</th>\n",
       "      <th>C(League_to)[T.Torneo Final]</th>\n",
       "      <th>C(League_to)[T.UAE Gulf League]</th>\n",
       "      <th>Age</th>\n",
       "      <th>Season</th>\n",
       "    </tr>\n",
       "  </thead>\n",
       "  <tbody>\n",
       "    <tr>\n",
       "      <th>0</th>\n",
       "      <td>0.0</td>\n",
       "      <td>-0.340381</td>\n",
       "      <td>-0.423933</td>\n",
       "      <td>-0.635141</td>\n",
       "      <td>-0.309559</td>\n",
       "      <td>-0.199557</td>\n",
       "      <td>-0.285402</td>\n",
       "      <td>-0.224231</td>\n",
       "      <td>3.430997</td>\n",
       "      <td>-0.200133</td>\n",
       "      <td>...</td>\n",
       "      <td>-0.06371</td>\n",
       "      <td>-0.163246</td>\n",
       "      <td>-0.014588</td>\n",
       "      <td>-0.025273</td>\n",
       "      <td>-0.102642</td>\n",
       "      <td>-0.177145</td>\n",
       "      <td>-0.046176</td>\n",
       "      <td>-0.065372</td>\n",
       "      <td>0.823806</td>\n",
       "      <td>-1.645154</td>\n",
       "    </tr>\n",
       "    <tr>\n",
       "      <th>1</th>\n",
       "      <td>0.0</td>\n",
       "      <td>-0.340381</td>\n",
       "      <td>-0.423933</td>\n",
       "      <td>1.574454</td>\n",
       "      <td>-0.309559</td>\n",
       "      <td>-0.199557</td>\n",
       "      <td>-0.285402</td>\n",
       "      <td>-0.224231</td>\n",
       "      <td>-0.291460</td>\n",
       "      <td>-0.200133</td>\n",
       "      <td>...</td>\n",
       "      <td>-0.06371</td>\n",
       "      <td>-0.163246</td>\n",
       "      <td>-0.014588</td>\n",
       "      <td>-0.025273</td>\n",
       "      <td>-0.102642</td>\n",
       "      <td>-0.177145</td>\n",
       "      <td>-0.046176</td>\n",
       "      <td>-0.065372</td>\n",
       "      <td>0.204700</td>\n",
       "      <td>-1.645154</td>\n",
       "    </tr>\n",
       "    <tr>\n",
       "      <th>2</th>\n",
       "      <td>0.0</td>\n",
       "      <td>-0.340381</td>\n",
       "      <td>-0.423933</td>\n",
       "      <td>-0.635141</td>\n",
       "      <td>-0.309559</td>\n",
       "      <td>-0.199557</td>\n",
       "      <td>3.503832</td>\n",
       "      <td>-0.224231</td>\n",
       "      <td>-0.291460</td>\n",
       "      <td>-0.200133</td>\n",
       "      <td>...</td>\n",
       "      <td>-0.06371</td>\n",
       "      <td>-0.163246</td>\n",
       "      <td>-0.014588</td>\n",
       "      <td>-0.025273</td>\n",
       "      <td>-0.102642</td>\n",
       "      <td>-0.177145</td>\n",
       "      <td>-0.046176</td>\n",
       "      <td>-0.065372</td>\n",
       "      <td>0.823806</td>\n",
       "      <td>-1.645154</td>\n",
       "    </tr>\n",
       "    <tr>\n",
       "      <th>3</th>\n",
       "      <td>0.0</td>\n",
       "      <td>-0.340381</td>\n",
       "      <td>-0.423933</td>\n",
       "      <td>1.574454</td>\n",
       "      <td>-0.309559</td>\n",
       "      <td>-0.199557</td>\n",
       "      <td>-0.285402</td>\n",
       "      <td>-0.224231</td>\n",
       "      <td>-0.291460</td>\n",
       "      <td>-0.200133</td>\n",
       "      <td>...</td>\n",
       "      <td>-0.06371</td>\n",
       "      <td>-0.163246</td>\n",
       "      <td>-0.014588</td>\n",
       "      <td>-0.025273</td>\n",
       "      <td>-0.102642</td>\n",
       "      <td>-0.177145</td>\n",
       "      <td>-0.046176</td>\n",
       "      <td>-0.065372</td>\n",
       "      <td>2.062018</td>\n",
       "      <td>-1.645154</td>\n",
       "    </tr>\n",
       "    <tr>\n",
       "      <th>4</th>\n",
       "      <td>0.0</td>\n",
       "      <td>-0.340381</td>\n",
       "      <td>-0.423933</td>\n",
       "      <td>1.574454</td>\n",
       "      <td>-0.309559</td>\n",
       "      <td>-0.199557</td>\n",
       "      <td>-0.285402</td>\n",
       "      <td>-0.224231</td>\n",
       "      <td>-0.291460</td>\n",
       "      <td>-0.200133</td>\n",
       "      <td>...</td>\n",
       "      <td>-0.06371</td>\n",
       "      <td>-0.163246</td>\n",
       "      <td>-0.014588</td>\n",
       "      <td>-0.025273</td>\n",
       "      <td>-0.102642</td>\n",
       "      <td>-0.177145</td>\n",
       "      <td>-0.046176</td>\n",
       "      <td>-0.065372</td>\n",
       "      <td>-1.033512</td>\n",
       "      <td>-1.645154</td>\n",
       "    </tr>\n",
       "  </tbody>\n",
       "</table>\n",
       "<p>5 rows × 1086 columns</p>\n",
       "</div>"
      ],
      "text/plain": [
       "   Intercept  C(Position)[T.Central Midfield]  C(Position)[T.Centre-Back]  \\\n",
       "0        0.0                        -0.340381                   -0.423933   \n",
       "1        0.0                        -0.340381                   -0.423933   \n",
       "2        0.0                        -0.340381                   -0.423933   \n",
       "3        0.0                        -0.340381                   -0.423933   \n",
       "4        0.0                        -0.340381                   -0.423933   \n",
       "\n",
       "   C(Position)[T.Centre-Forward]  C(Position)[T.Defensive Midfield]  \\\n",
       "0                      -0.635141                          -0.309559   \n",
       "1                       1.574454                          -0.309559   \n",
       "2                      -0.635141                          -0.309559   \n",
       "3                       1.574454                          -0.309559   \n",
       "4                       1.574454                          -0.309559   \n",
       "\n",
       "   C(Position)[T.Goalkeeper]  C(Position)[T.Left Midfield]  \\\n",
       "0                  -0.199557                     -0.285402   \n",
       "1                  -0.199557                     -0.285402   \n",
       "2                  -0.199557                      3.503832   \n",
       "3                  -0.199557                     -0.285402   \n",
       "4                  -0.199557                     -0.285402   \n",
       "\n",
       "   C(Position)[T.Left-Back]  C(Position)[T.Right Midfield]  \\\n",
       "0                 -0.224231                       3.430997   \n",
       "1                 -0.224231                      -0.291460   \n",
       "2                 -0.224231                      -0.291460   \n",
       "3                 -0.224231                      -0.291460   \n",
       "4                 -0.224231                      -0.291460   \n",
       "\n",
       "   C(Position)[T.Right-Back]  ...  C(League_to)[T.Stars League]  \\\n",
       "0                  -0.200133  ...                      -0.06371   \n",
       "1                  -0.200133  ...                      -0.06371   \n",
       "2                  -0.200133  ...                      -0.06371   \n",
       "3                  -0.200133  ...                      -0.06371   \n",
       "4                  -0.200133  ...                      -0.06371   \n",
       "\n",
       "   C(League_to)[T.Super League]  C(League_to)[T.SuperLiga]  \\\n",
       "0                     -0.163246                  -0.014588   \n",
       "1                     -0.163246                  -0.014588   \n",
       "2                     -0.163246                  -0.014588   \n",
       "3                     -0.163246                  -0.014588   \n",
       "4                     -0.163246                  -0.014588   \n",
       "\n",
       "   C(League_to)[T.Superligaen]  C(League_to)[T.Série A]  \\\n",
       "0                    -0.025273                -0.102642   \n",
       "1                    -0.025273                -0.102642   \n",
       "2                    -0.025273                -0.102642   \n",
       "3                    -0.025273                -0.102642   \n",
       "4                    -0.025273                -0.102642   \n",
       "\n",
       "   C(League_to)[T.Süper Lig]  C(League_to)[T.Torneo Final]  \\\n",
       "0                  -0.177145                     -0.046176   \n",
       "1                  -0.177145                     -0.046176   \n",
       "2                  -0.177145                     -0.046176   \n",
       "3                  -0.177145                     -0.046176   \n",
       "4                  -0.177145                     -0.046176   \n",
       "\n",
       "   C(League_to)[T.UAE Gulf League]       Age    Season  \n",
       "0                        -0.065372  0.823806 -1.645154  \n",
       "1                        -0.065372  0.204700 -1.645154  \n",
       "2                        -0.065372  0.823806 -1.645154  \n",
       "3                        -0.065372  2.062018 -1.645154  \n",
       "4                        -0.065372 -1.033512 -1.645154  \n",
       "\n",
       "[5 rows x 1086 columns]"
      ]
     },
     "execution_count": 23,
     "metadata": {},
     "output_type": "execute_result"
    }
   ],
   "source": [
    "#Performing one-hot encoding on Position, Team_from, League_from, Team_to, and League_to\n",
    "\n",
    "Y, X = pts.dmatrices('Transfer_fee ~ C(Position) + Age + C(Team_from) + C(League_from) + C(Team_to) + C(League_to) + Season',\n",
    "                    data = class_df,\n",
    "                    return_type='dataframe')\n",
    "\n",
    "np_Y = Y['Transfer_fee'].to_numpy()\n",
    "scaler = StandardScaler()\n",
    "X = pd.DataFrame(scaler.fit_transform(X),columns = X.columns)\n",
    "X.head()"
   ]
  },
  {
   "cell_type": "code",
   "execution_count": 24,
   "id": "bc0564fe",
   "metadata": {
    "collapsed": true
   },
   "outputs": [],
   "source": [
    "X_train, X_test, y_train, y_test = train_test_split( X, np_Y, test_size=0.2, random_state=23)"
   ]
  },
  {
   "cell_type": "code",
   "execution_count": 25,
   "id": "27e49778",
   "metadata": {
    "collapsed": true
   },
   "outputs": [],
   "source": [
    "from sklearn.metrics import r2_score\n",
    "from sklearn.metrics import explained_variance_score\n",
    "from sklearn.metrics import mean_squared_error\n",
    "def reg_scorer(y_true, y_pred, is_training=True):\n",
    "    originalclass.extend(y_true)\n",
    "    predictedclass.extend(y_pred)\n",
    "    '''\n",
    "    print(\"originalclass\")\n",
    "    print(originalclass)\n",
    "    print(\"predictedclass\")\n",
    "    print(predictedclass)\n",
    "    '''\n",
    "    # Custom Accuracy function to measure the distance of the predicted value from the true value rather than a simple\n",
    "    # accuracy score that only determines if the datapoint was correctly classified or not\n",
    "    exp_var = explained_variance_score(y_true, y_pred)\n",
    "    r2 = r2_score(y_true, y_pred)\n",
    "    if is_training:\n",
    "        print(\"Explained Variance of this outer fold is: \")\n",
    "        print(exp_var)\n",
    "        print(\"The R2 of this outer fold is: \")\n",
    "        print(r2)\n",
    "    return r2\n",
    "\n",
    "def run_reg_model(model, parameters, X, y):\n",
    "    clf = GridSearchCV(estimator=model, param_grid=parameters, n_jobs = -1)\n",
    "    clf.fit(X, y)\n",
    "    nested_r2 = cross_val_score(model, X=X, y=y, scoring=make_scorer(reg_scorer), verbose=3).mean()\n",
    "    return clf.best_params_, nested_r2"
   ]
  },
  {
   "cell_type": "markdown",
   "id": "b4f13338",
   "metadata": {},
   "source": [
    "## Model Selection\n"
   ]
  },
  {
   "cell_type": "markdown",
   "id": "9bf2a527",
   "metadata": {},
   "source": [
    "Now I have prepared my training and testing datasets similarly to before and written a custom regression scoring function. Let's compare the various regression models."
   ]
  },
  {
   "cell_type": "markdown",
   "id": "55888e94",
   "metadata": {},
   "source": [
    "#### KNN Regressor"
   ]
  },
  {
   "cell_type": "code",
   "execution_count": 26,
   "id": "8b444a94",
   "metadata": {},
   "outputs": [
    {
     "name": "stderr",
     "output_type": "stream",
     "text": [
      "[Parallel(n_jobs=1)]: Using backend SequentialBackend with 1 concurrent workers.\n"
     ]
    },
    {
     "name": "stdout",
     "output_type": "stream",
     "text": [
      "Explained Variance of this outer fold is: \n",
      "-0.1817561913683461\n",
      "The R2 of this outer fold is: \n",
      "-0.27081315217402024\n",
      "[CV] END ............................... score: (test=-0.271) total time=   0.2s\n",
      "Explained Variance of this outer fold is: \n",
      "0.050448153041256605\n",
      "The R2 of this outer fold is: \n",
      "0.0003667829881583984\n",
      "[CV] END ................................ score: (test=0.000) total time=   0.2s\n"
     ]
    },
    {
     "name": "stderr",
     "output_type": "stream",
     "text": [
      "[Parallel(n_jobs=1)]: Done   1 out of   1 | elapsed:    0.2s remaining:    0.0s\n",
      "[Parallel(n_jobs=1)]: Done   2 out of   2 | elapsed:    0.4s remaining:    0.0s\n"
     ]
    },
    {
     "name": "stdout",
     "output_type": "stream",
     "text": [
      "Explained Variance of this outer fold is: \n",
      "-0.04437572009403001\n",
      "The R2 of this outer fold is: \n",
      "-0.1311301950953807\n",
      "[CV] END ............................... score: (test=-0.131) total time=   0.2s\n",
      "Explained Variance of this outer fold is: \n",
      "-0.008762301897099478\n",
      "The R2 of this outer fold is: \n",
      "-0.049942968236491136\n",
      "[CV] END ............................... score: (test=-0.050) total time=   0.2s\n",
      "Explained Variance of this outer fold is: \n",
      "-0.452933640600268\n",
      "The R2 of this outer fold is: \n",
      "-0.7282773376972558\n",
      "[CV] END ............................... score: (test=-0.728) total time=   0.2s\n",
      "The best parameters are: \n",
      "{'metric': 'euclidean', 'n_neighbors': 11, 'weights': 'distance'}\n",
      "Mean r squared of all outer folds is: \n",
      "-0.23595937404299788\n",
      "The r squared on the test dataset is: \n"
     ]
    },
    {
     "name": "stderr",
     "output_type": "stream",
     "text": [
      "[Parallel(n_jobs=1)]: Done   5 out of   5 | elapsed:    1.0s finished\n"
     ]
    },
    {
     "name": "stdout",
     "output_type": "stream",
     "text": [
      "-0.05521216483494795\n"
     ]
    }
   ],
   "source": [
    "from sklearn.neighbors import KNeighborsRegressor\n",
    "params = {\n",
    "    'n_neighbors': np.arange(3, 16),\n",
    "    'weights': ['uniform', 'distance'],\n",
    "    'metric': ['euclidean']\n",
    "}\n",
    "\n",
    "originalclass = []\n",
    "predictedclass = []\n",
    "\n",
    "rknn_best_params, rknn_nested_score = run_reg_model(KNeighborsRegressor(n_jobs = -1), params, X_train, y_train)\n",
    "print(\"The best parameters are: \")\n",
    "print(rknn_best_params)\n",
    "print(\"Mean r squared of all outer folds is: \")\n",
    "print(rknn_nested_score)\n",
    "\n",
    "test_model = KNeighborsRegressor(n_neighbors=rknn_best_params['n_neighbors'],\n",
    "                                  weights=rknn_best_params['weights'],\n",
    "                                  metric=rknn_best_params['metric'],\n",
    "                                  n_jobs = -1).fit(X_train, y_train)\n",
    "print(\"The r squared on the test dataset is: \")\n",
    "print(reg_scorer(y_test, test_model.predict(X_test), is_training=False))"
   ]
  },
  {
   "cell_type": "markdown",
   "id": "9e7b5bd8",
   "metadata": {},
   "source": [
    "#### Linear Regressor"
   ]
  },
  {
   "cell_type": "code",
   "execution_count": 27,
   "id": "c3665b2f",
   "metadata": {},
   "outputs": [
    {
     "name": "stderr",
     "output_type": "stream",
     "text": [
      "[Parallel(n_jobs=1)]: Using backend SequentialBackend with 1 concurrent workers.\n"
     ]
    },
    {
     "name": "stdout",
     "output_type": "stream",
     "text": [
      "Explained Variance of this outer fold is: \n",
      "-3.1319016069940973e+28\n",
      "The R2 of this outer fold is: \n",
      "-3.1325070191778717e+28\n",
      "[CV] END ... score: (test=-31325070191778716799916310528.000) total time=   0.4s\n"
     ]
    },
    {
     "name": "stderr",
     "output_type": "stream",
     "text": [
      "[Parallel(n_jobs=1)]: Done   1 out of   1 | elapsed:    0.4s remaining:    0.0s\n"
     ]
    },
    {
     "name": "stdout",
     "output_type": "stream",
     "text": [
      "Explained Variance of this outer fold is: \n",
      "-3.0467673244402878e+28\n",
      "The R2 of this outer fold is: \n",
      "-3.050740523741107e+28\n",
      "[CV] END ... score: (test=-30507405237411072092093284352.000) total time=   0.4s\n"
     ]
    },
    {
     "name": "stderr",
     "output_type": "stream",
     "text": [
      "[Parallel(n_jobs=1)]: Done   2 out of   2 | elapsed:    0.8s remaining:    0.0s\n"
     ]
    },
    {
     "name": "stdout",
     "output_type": "stream",
     "text": [
      "Explained Variance of this outer fold is: \n",
      "-2.110045083066988e+28\n",
      "The R2 of this outer fold is: \n",
      "-2.1148493486540672e+28\n",
      "[CV] END ... score: (test=-21148493486540672208809754624.000) total time=   0.4s\n",
      "Explained Variance of this outer fold is: \n",
      "-1.9725058659260144e+28\n",
      "The R2 of this outer fold is: \n",
      "-1.9754110756270497e+28\n",
      "[CV] END ... score: (test=-19754110756270497480971386880.000) total time=   0.4s\n",
      "Explained Variance of this outer fold is: \n",
      "-7.605559975500181e+28\n",
      "The R2 of this outer fold is: \n",
      "-7.607516355561761e+28\n",
      "[CV] END ... score: (test=-76075163555617608687813656576.000) total time=   0.4s\n",
      "Mean r squared of all outer folds is: \n",
      "-3.5762048645523716e+28\n"
     ]
    },
    {
     "name": "stderr",
     "output_type": "stream",
     "text": [
      "[Parallel(n_jobs=1)]: Done   5 out of   5 | elapsed:    1.9s finished\n"
     ]
    },
    {
     "name": "stdout",
     "output_type": "stream",
     "text": [
      "The r squared on the test dataset is: \n",
      "-2.373171049958724e+28\n"
     ]
    }
   ],
   "source": [
    "from sklearn.linear_model import LinearRegression\n",
    "\n",
    "originalclass = []\n",
    "predictedclass = []\n",
    "#Note there are no parameters to optimize for Linear Regression\n",
    "_ , rlr_nested_score = run_reg_model(LinearRegression(), {}, X_train, y_train)\n",
    "print(\"Mean r squared of all outer folds is: \")\n",
    "print(rlr_nested_score)\n",
    "\n",
    "test_model = LinearRegression().fit(X_train, y_train)\n",
    "print(\"The r squared on the test dataset is: \")\n",
    "print(reg_scorer(y_test, test_model.predict(X_test), is_training=False))"
   ]
  },
  {
   "cell_type": "markdown",
   "id": "374816f5",
   "metadata": {},
   "source": [
    "#### Decision Tree Regressor"
   ]
  },
  {
   "cell_type": "code",
   "execution_count": 28,
   "id": "0d25a092",
   "metadata": {},
   "outputs": [
    {
     "name": "stderr",
     "output_type": "stream",
     "text": [
      "[Parallel(n_jobs=1)]: Using backend SequentialBackend with 1 concurrent workers.\n"
     ]
    },
    {
     "name": "stdout",
     "output_type": "stream",
     "text": [
      "Explained Variance of this outer fold is: \n",
      "-0.017972899764185923\n",
      "The R2 of this outer fold is: \n",
      "-0.03225157156462588\n",
      "[CV] END ............................... score: (test=-0.032) total time=   0.3s\n"
     ]
    },
    {
     "name": "stderr",
     "output_type": "stream",
     "text": [
      "[Parallel(n_jobs=1)]: Done   1 out of   1 | elapsed:    0.3s remaining:    0.0s\n"
     ]
    },
    {
     "name": "stdout",
     "output_type": "stream",
     "text": [
      "Explained Variance of this outer fold is: \n",
      "0.10340988034066179\n",
      "The R2 of this outer fold is: \n",
      "0.09712988748284068\n",
      "[CV] END ................................ score: (test=0.097) total time=   0.3s\n"
     ]
    },
    {
     "name": "stderr",
     "output_type": "stream",
     "text": [
      "[Parallel(n_jobs=1)]: Done   2 out of   2 | elapsed:    0.6s remaining:    0.0s\n"
     ]
    },
    {
     "name": "stdout",
     "output_type": "stream",
     "text": [
      "Explained Variance of this outer fold is: \n",
      "-0.035597973015889295\n",
      "The R2 of this outer fold is: \n",
      "-0.037889829685537224\n",
      "[CV] END ............................... score: (test=-0.038) total time=   0.3s\n",
      "Explained Variance of this outer fold is: \n",
      "-0.5187764826382075\n",
      "The R2 of this outer fold is: \n",
      "-0.524863076136793\n",
      "[CV] END ............................... score: (test=-0.525) total time=   0.3s\n",
      "Explained Variance of this outer fold is: \n",
      "-0.016978174921122635\n",
      "The R2 of this outer fold is: \n",
      "-0.018328812282862206\n",
      "[CV] END ............................... score: (test=-0.018) total time=   0.3s\n",
      "The best parameters are: \n",
      "{'max_depth': 10, 'min_samples_split': 50}\n",
      "Mean r squared of all outer folds is: \n",
      "-0.10324068043739551\n",
      "The r squared on the test dataset is: \n",
      "0.3121198459670699\n"
     ]
    },
    {
     "name": "stderr",
     "output_type": "stream",
     "text": [
      "[Parallel(n_jobs=1)]: Done   5 out of   5 | elapsed:    1.4s finished\n"
     ]
    }
   ],
   "source": [
    "from sklearn.tree import DecisionTreeRegressor\n",
    "\n",
    "params = {'max_depth': range(1, 11),\n",
    "          'min_samples_split': range(10, 60, 10)\n",
    "}\n",
    "originalclass = []\n",
    "predictedclass = []\n",
    "\n",
    "rdt_best_params, rdt_nested_score = run_reg_model(DecisionTreeRegressor(), params, X_train, y_train)\n",
    "print(\"The best parameters are: \")\n",
    "print(rdt_best_params)\n",
    "print(\"Mean r squared of all outer folds is: \")\n",
    "print(rdt_nested_score)\n",
    "\n",
    "test_model = DecisionTreeRegressor(max_depth=rdt_best_params['max_depth'],\n",
    "                                  min_samples_split=rdt_best_params['min_samples_split']).fit(X_train, y_train)\n",
    "print(\"The r squared on the test dataset is: \")\n",
    "print(reg_scorer(y_test, test_model.predict(X_test), is_training=False))"
   ]
  },
  {
   "cell_type": "markdown",
   "id": "65055e61",
   "metadata": {},
   "source": [
    "#### Random Forest Regressor"
   ]
  },
  {
   "cell_type": "code",
   "execution_count": 29,
   "id": "e17b6a33",
   "metadata": {},
   "outputs": [
    {
     "name": "stderr",
     "output_type": "stream",
     "text": [
      "[Parallel(n_jobs=1)]: Using backend SequentialBackend with 1 concurrent workers.\n"
     ]
    },
    {
     "name": "stdout",
     "output_type": "stream",
     "text": [
      "Explained Variance of this outer fold is: \n",
      "0.3570926662585763\n",
      "The R2 of this outer fold is: \n",
      "0.3500475308928702\n",
      "[CV] END ................................ score: (test=0.350) total time=   7.6s\n"
     ]
    },
    {
     "name": "stderr",
     "output_type": "stream",
     "text": [
      "[Parallel(n_jobs=1)]: Done   1 out of   1 | elapsed:    7.6s remaining:    0.0s\n"
     ]
    },
    {
     "name": "stdout",
     "output_type": "stream",
     "text": [
      "Explained Variance of this outer fold is: \n",
      "0.35317577219609786\n",
      "The R2 of this outer fold is: \n",
      "0.34566206632363716\n",
      "[CV] END ................................ score: (test=0.346) total time=   7.0s\n"
     ]
    },
    {
     "name": "stderr",
     "output_type": "stream",
     "text": [
      "[Parallel(n_jobs=1)]: Done   2 out of   2 | elapsed:   14.6s remaining:    0.0s\n"
     ]
    },
    {
     "name": "stdout",
     "output_type": "stream",
     "text": [
      "Explained Variance of this outer fold is: \n",
      "0.283210711582071\n",
      "The R2 of this outer fold is: \n",
      "0.281675719968534\n",
      "[CV] END ................................ score: (test=0.282) total time=   7.2s\n",
      "Explained Variance of this outer fold is: \n",
      "0.3302148202305526\n",
      "The R2 of this outer fold is: \n",
      "0.321159345767579\n",
      "[CV] END ................................ score: (test=0.321) total time=   7.7s\n",
      "Explained Variance of this outer fold is: \n",
      "0.3952237847724215\n",
      "The R2 of this outer fold is: \n",
      "0.39496026049390753\n",
      "[CV] END ................................ score: (test=0.395) total time=   7.4s\n",
      "The best parameters are: \n",
      "{'bootstrap': True, 'max_depth': 50, 'max_features': 'auto', 'n_estimators': 200}\n",
      "Mean r squared of all outer folds is: \n",
      "0.3387009846893056\n"
     ]
    },
    {
     "name": "stderr",
     "output_type": "stream",
     "text": [
      "[Parallel(n_jobs=1)]: Done   5 out of   5 | elapsed:   37.0s finished\n"
     ]
    },
    {
     "name": "stdout",
     "output_type": "stream",
     "text": [
      "The r squared on the test dataset is: \n",
      "0.3229679683525919\n"
     ]
    }
   ],
   "source": [
    "from sklearn.ensemble import RandomForestRegressor\n",
    "\n",
    "\n",
    "params = {\n",
    "    'bootstrap': [True],\n",
    "    'max_depth': [10, 50],\n",
    "    'max_features': ['auto', 'sqrt'],\n",
    "    'n_estimators': [200, 1000]\n",
    "}\n",
    "\n",
    "\n",
    "originalclass = []\n",
    "predictedclass = []\n",
    "\n",
    "rrf_best_params, rrf_nested_score = run_reg_model(RandomForestRegressor(n_jobs = -1), params, X_train, y_train)\n",
    "print(\"The best parameters are: \")\n",
    "print(rrf_best_params)\n",
    "print(\"Mean r squared of all outer folds is: \")\n",
    "print(rrf_nested_score)\n",
    "\n",
    "test_model = RandomForestRegressor(bootstrap=rrf_best_params['bootstrap'],\n",
    "                                  max_depth=rrf_best_params['max_depth'],\n",
    "                                  max_features=rrf_best_params['max_features'],\n",
    "                                  n_estimators=rrf_best_params['n_estimators'],\n",
    "                                  n_jobs = -1).fit(X_train, y_train)\n",
    "print(\"The r squared on the test dataset is: \")\n",
    "print(reg_scorer(y_test, test_model.predict(X_test), is_training=False))"
   ]
  },
  {
   "cell_type": "markdown",
   "id": "d22d4491",
   "metadata": {},
   "source": [
    "#### Lasso Regression"
   ]
  },
  {
   "cell_type": "code",
   "execution_count": 30,
   "id": "20b8c4d4",
   "metadata": {},
   "outputs": [
    {
     "name": "stderr",
     "output_type": "stream",
     "text": [
      "[Parallel(n_jobs=1)]: Using backend SequentialBackend with 1 concurrent workers.\n"
     ]
    },
    {
     "name": "stdout",
     "output_type": "stream",
     "text": [
      "Explained Variance of this outer fold is: \n",
      "0.25992610731383303\n",
      "The R2 of this outer fold is: \n",
      "0.2573756399474404\n",
      "[CV] END ................................ score: (test=0.257) total time=   2.9s\n"
     ]
    },
    {
     "name": "stderr",
     "output_type": "stream",
     "text": [
      "[Parallel(n_jobs=1)]: Done   1 out of   1 | elapsed:    2.9s remaining:    0.0s\n"
     ]
    },
    {
     "name": "stdout",
     "output_type": "stream",
     "text": [
      "Explained Variance of this outer fold is: \n",
      "0.3038445723965032\n",
      "The R2 of this outer fold is: \n",
      "0.30344542875728286\n",
      "[CV] END ................................ score: (test=0.303) total time=   3.1s\n"
     ]
    },
    {
     "name": "stderr",
     "output_type": "stream",
     "text": [
      "[Parallel(n_jobs=1)]: Done   2 out of   2 | elapsed:    6.0s remaining:    0.0s\n"
     ]
    },
    {
     "name": "stdout",
     "output_type": "stream",
     "text": [
      "Explained Variance of this outer fold is: \n",
      "0.14344342037552626\n",
      "The R2 of this outer fold is: \n",
      "0.14209500521064067\n",
      "[CV] END ................................ score: (test=0.142) total time=   3.0s\n",
      "Explained Variance of this outer fold is: \n",
      "0.33454273821820424\n",
      "The R2 of this outer fold is: \n",
      "0.333367478610647\n",
      "[CV] END ................................ score: (test=0.333) total time=   3.0s\n",
      "Explained Variance of this outer fold is: \n",
      "0.11549449447807258\n",
      "The R2 of this outer fold is: \n",
      "0.10487440959572736\n",
      "[CV] END ................................ score: (test=0.105) total time=   2.8s\n",
      "The best parameters are: \n",
      "{'alpha': 0.9}\n",
      "Mean r squared of all outer folds is: \n",
      "0.2282315924243476\n"
     ]
    },
    {
     "name": "stderr",
     "output_type": "stream",
     "text": [
      "[Parallel(n_jobs=1)]: Done   5 out of   5 | elapsed:   14.8s finished\n"
     ]
    },
    {
     "name": "stdout",
     "output_type": "stream",
     "text": [
      "The r squared on the test dataset is: \n",
      "0.2599573877665836\n"
     ]
    }
   ],
   "source": [
    "from sklearn.linear_model import Lasso\n",
    "\n",
    "params = {\n",
    "    'alpha' : np.arange(0, 1, 0.1)\n",
    "}\n",
    "\n",
    "\n",
    "originalclass = []\n",
    "predictedclass = []\n",
    "\n",
    "rlm_best_params, rlm_nested_score = run_reg_model(Lasso(), params, X_train, y_train)\n",
    "print(\"The best parameters are: \")\n",
    "print(rlm_best_params)\n",
    "print(\"Mean r squared of all outer folds is: \")\n",
    "print(rlm_nested_score)\n",
    "\n",
    "test_model = Lasso(alpha=rlm_best_params['alpha']).fit(X_train, y_train)\n",
    "print(\"The r squared on the test dataset is: \")\n",
    "print(reg_scorer(y_test, test_model.predict(X_test), is_training=False))"
   ]
  },
  {
   "cell_type": "markdown",
   "id": "c16b5ce3",
   "metadata": {},
   "source": [
    "#### Elastic Net Regression"
   ]
  },
  {
   "cell_type": "code",
   "execution_count": 31,
   "id": "078a37a0",
   "metadata": {},
   "outputs": [
    {
     "name": "stderr",
     "output_type": "stream",
     "text": [
      "[Parallel(n_jobs=1)]: Using backend SequentialBackend with 1 concurrent workers.\n"
     ]
    },
    {
     "name": "stdout",
     "output_type": "stream",
     "text": [
      "Explained Variance of this outer fold is: \n",
      "0.32146767839687307\n",
      "The R2 of this outer fold is: \n",
      "0.31952201645973266\n",
      "[CV] END ................................ score: (test=0.320) total time=   0.2s\n",
      "Explained Variance of this outer fold is: \n",
      "0.30926027780851106\n",
      "The R2 of this outer fold is: \n",
      "0.30911735441081056\n",
      "[CV] END ................................ score: (test=0.309) total time=   0.2s\n"
     ]
    },
    {
     "name": "stderr",
     "output_type": "stream",
     "text": [
      "[Parallel(n_jobs=1)]: Done   1 out of   1 | elapsed:    0.2s remaining:    0.0s\n",
      "[Parallel(n_jobs=1)]: Done   2 out of   2 | elapsed:    0.4s remaining:    0.0s\n"
     ]
    },
    {
     "name": "stdout",
     "output_type": "stream",
     "text": [
      "Explained Variance of this outer fold is: \n",
      "0.22944962921316003\n",
      "The R2 of this outer fold is: \n",
      "0.22784273227408514\n",
      "[CV] END ................................ score: (test=0.228) total time=   0.2s\n",
      "Explained Variance of this outer fold is: \n",
      "0.3513590655812793\n",
      "The R2 of this outer fold is: \n",
      "0.34991758103033777\n",
      "[CV] END ................................ score: (test=0.350) total time=   0.2s\n",
      "Explained Variance of this outer fold is: \n",
      "0.33481398094871606\n",
      "The R2 of this outer fold is: \n",
      "0.31827191285389966\n",
      "[CV] END ................................ score: (test=0.318) total time=   0.2s\n",
      "The best parameters are: \n",
      "{'alpha': 0.7000000000000001}\n",
      "Mean r squared of all outer folds is: \n",
      "0.3049343194057732\n"
     ]
    },
    {
     "name": "stderr",
     "output_type": "stream",
     "text": [
      "[Parallel(n_jobs=1)]: Done   5 out of   5 | elapsed:    1.1s finished\n"
     ]
    },
    {
     "name": "stdout",
     "output_type": "stream",
     "text": [
      "The r squared on the test dataset is: \n",
      "0.285552494348429\n"
     ]
    }
   ],
   "source": [
    "from sklearn.linear_model import ElasticNet\n",
    "\n",
    "\n",
    "params = {\n",
    "    'alpha' : np.arange(0, 1, 0.1)\n",
    "}\n",
    "\n",
    "\n",
    "originalclass = []\n",
    "predictedclass = []\n",
    "\n",
    "ren_best_params, ren_nested_score = run_reg_model(ElasticNet(), params, X_train, y_train)\n",
    "print(\"The best parameters are: \")\n",
    "print(ren_best_params)\n",
    "print(\"Mean r squared of all outer folds is: \")\n",
    "print(ren_nested_score)\n",
    "\n",
    "test_model = ElasticNet(alpha=ren_best_params['alpha']).fit(X_train, y_train)\n",
    "print(\"The r squared on the test dataset is: \")\n",
    "print(reg_scorer(y_test, test_model.predict(X_test), is_training=False))"
   ]
  },
  {
   "cell_type": "markdown",
   "id": "bfcdf246",
   "metadata": {},
   "source": [
    "#### RF Regressor Visualization"
   ]
  },
  {
   "cell_type": "markdown",
   "id": "d4bf1d8e",
   "metadata": {},
   "source": [
    "It was close, but it looks like the best regression model is the Random Forest. I will now make a graph for the true vs predicted values similarl to the one I made for the classification."
   ]
  },
  {
   "cell_type": "code",
   "execution_count": 32,
   "id": "4f605b19",
   "metadata": {
    "collapsed": true
   },
   "outputs": [],
   "source": [
    "test_model = RandomForestRegressor(bootstrap=rrf_best_params['bootstrap'],\n",
    "                                    max_depth=rrf_best_params['max_depth'],\n",
    "                                    max_features=rrf_best_params['max_features'],\n",
    "                                    n_estimators=rrf_best_params['n_estimators'],\n",
    "                                    n_jobs = -1).fit(X_train, y_train)\n",
    "plotting_data = pd.DataFrame({'true_vals': y_test, 'predicted_vals': test_model.predict(X_test)})"
   ]
  },
  {
   "cell_type": "code",
   "execution_count": 33,
   "id": "750dcdea",
   "metadata": {},
   "outputs": [
    {
     "data": {
      "image/png": "[encoded data removed]",
      "text/plain": [
       "<Figure size 432x288 with 1 Axes>"
      ]
     },
     "metadata": {
      "needs_background": "light"
     },
     "output_type": "display_data"
    }
   ],
   "source": [
    "fig, ax = plt.subplots()\n",
    "sns.scatterplot(x='true_vals', y='predicted_vals',\n",
    "             data = plotting_data, ax=ax).set_title('True vs Predicted Transfer Values for Random Forest Regressor')\n",
    "\n",
    "ax.set_xlim(1,1.4e8)\n",
    "ax.set_ylim(1,1.4e8)\n",
    "plt.show()\n",
    "None"
   ]
  },
  {
   "cell_type": "markdown",
   "id": "726ef13f",
   "metadata": {},
   "source": [
    "As we can see the data does seem to generally follow the line of x=y, which is what we were hoping for. It should be noted that our regression is definitely skewed towards predicting lower transfer fees than what happens in reality, as a number of true values are over 0.4e8 (40 million), while our model only predicts 3 transfers to be over 40 million. I'll do another plot that doesn't include some of the outliers to get a better picture of what is happening with the majority of the data."
   ]
  },
  {
   "cell_type": "code",
   "execution_count": 34,
   "id": "34a923a3",
   "metadata": {},
   "outputs": [
    {
     "data": {
      "image/png": "[encoded data removed]",
      "text/plain": [
       "<Figure size 432x288 with 1 Axes>"
      ]
     },
     "metadata": {
      "needs_background": "light"
     },
     "output_type": "display_data"
    }
   ],
   "source": [
    "fig, ax = plt.subplots()\n",
    "sns.scatterplot(x='true_vals', y='predicted_vals',\n",
    "             data = plotting_data, ax=ax).set_title('True vs Predicted Transfer Values for Random Forest Regressor')\n",
    "\n",
    "ax.set_xlim(1,0.4e8)\n",
    "ax.set_ylim(1,0.4e8)\n",
    "plt.show()\n",
    "None"
   ]
  },
  {
   "cell_type": "markdown",
   "id": "12b86eb8",
   "metadata": {},
   "source": [
    "This graph confirms our previous suspicions. The model performs really well in predicting transfers with very low transfer fees, but the predictions begin to vary more as the true value of the transfer increases."
   ]
  },
  {
   "cell_type": "markdown",
   "id": "8487c21d",
   "metadata": {},
   "source": [
    "## Trying a Time Series Split\n"
   ]
  },
  {
   "cell_type": "markdown",
   "id": "7c67730f",
   "metadata": {},
   "source": [
    "In all of our previous ML models, we used a standard Train_Test_Split method to create training and testing datasets. This however, may not be the best method for this dataset, because it could be argued that these transfers are a time series of approximately twenty seasons. Thus, I will use the two best models from the previous sections (Random Forest Classifier and Random Forest Regressor) and train them using a TimeSeriesSplit."
   ]
  },
  {
   "cell_type": "code",
   "execution_count": 35,
   "id": "474e9af7",
   "metadata": {
    "collapsed": true
   },
   "outputs": [],
   "source": [
    "unique_seasons = bucketed_df['Season'].nunique()\n",
    "bucketed_df.sort_values('Season')\n",
    "Y, X = pts.dmatrices('bucket ~ C(Position) + Age + C(Team_from) + C(League_from) + C(Team_to) + C(League_to) + Season',\n",
    "                    data = bucketed_df,\n",
    "                    return_type='dataframe')\n",
    "np_Y = Y['bucket'].to_numpy()\n",
    "scaler = StandardScaler()\n",
    "X = pd.DataFrame(scaler.fit_transform(X),columns = X.columns)"
   ]
  },
  {
   "cell_type": "code",
   "execution_count": 36,
   "id": "aeae36aa",
   "metadata": {},
   "outputs": [
    {
     "name": "stdout",
     "output_type": "stream",
     "text": [
      "Mean Relative Accuracy of this outer fold is: \n",
      "0.5404858299595142\n",
      "Mean Relative Accuracy of this outer fold is: \n",
      "0.7364372469635628\n",
      "Mean Relative Accuracy of this outer fold is: \n",
      "0.8230769230769233\n",
      "Mean Relative Accuracy of this outer fold is: \n",
      "0.8004048582995951\n",
      "Mean Relative Accuracy of this outer fold is: \n",
      "0.7805668016194333\n",
      "Mean Relative Accuracy of this outer fold is: \n",
      "0.7417004048582998\n",
      "Mean Relative Accuracy of this outer fold is: \n",
      "0.6951417004048582\n",
      "Mean Relative Accuracy of this outer fold is: \n",
      "0.780161943319838\n",
      "Mean Relative Accuracy of this outer fold is: \n",
      "0.7862348178137654\n",
      "Mean Relative Accuracy of this outer fold is: \n",
      "0.7862348178137654\n",
      "Mean Relative Accuracy of this outer fold is: \n",
      "0.7700404858299597\n",
      "Mean Relative Accuracy of this outer fold is: \n",
      "0.7910931174089069\n",
      "Mean Relative Accuracy of this outer fold is: \n",
      "0.7461538461538462\n",
      "Mean Relative Accuracy of this outer fold is: \n",
      "0.8097165991902834\n",
      "Mean Relative Accuracy of this outer fold is: \n",
      "0.748178137651822\n",
      "Mean Relative Accuracy of this outer fold is: \n",
      "0.8242914979757086\n",
      "Mean Relative Accuracy of this outer fold is: \n",
      "0.8562753036437247\n",
      "Mean Relative Accuracy of this outer fold is: \n",
      "0.8319838056680163\n"
     ]
    }
   ],
   "source": [
    "from sklearn.model_selection import TimeSeriesSplit\n",
    "\n",
    "tscv = TimeSeriesSplit(n_splits=unique_seasons - 1)\n",
    "for train_index, test_index in tscv.split(X):\n",
    "    X_train, X_test = X.loc[train_index], X.loc[test_index]\n",
    "    y_train, y_test = np_Y[train_index], np_Y[test_index]\n",
    "    model = RandomForestClassifier(bootstrap=rf_best_params['bootstrap'],\n",
    "                                    max_depth=rf_best_params['max_depth'],\n",
    "                                    max_features=rf_best_params['max_features'],\n",
    "                                    n_estimators=rf_best_params['n_estimators'],\n",
    "                                    n_jobs = -1).fit(X_train, y_train)\n",
    "    yhat = model.predict(X_test)\n",
    "    custom_classification_scoring(y_test, yhat)\n",
    "    "
   ]
  },
  {
   "cell_type": "markdown",
   "id": "1a5d21d1",
   "metadata": {},
   "source": [
    "As we can see in the later folds (in which the model is trained on most of the data and then tested on the later years), the TimeSeriesSplit is actually slightly better for Random Forest Classifier than the normal TrainTestSplit is. Now we will do the same thing, but with Random Forest Regression."
   ]
  },
  {
   "cell_type": "code",
   "execution_count": 37,
   "id": "c08d3d9d",
   "metadata": {
    "collapsed": true
   },
   "outputs": [],
   "source": [
    "Y, X = pts.dmatrices('Transfer_fee ~ C(Position) + Age + C(Team_from) + C(League_from) + C(Team_to) + C(League_to) + Season',\n",
    "                    data = class_df,\n",
    "                    return_type='dataframe')\n",
    "\n",
    "np_Y = Y['Transfer_fee'].to_numpy()\n",
    "scaler = StandardScaler()\n",
    "X = pd.DataFrame(scaler.fit_transform(X),columns = X.columns)"
   ]
  },
  {
   "cell_type": "code",
   "execution_count": 38,
   "id": "94f58a57",
   "metadata": {},
   "outputs": [
    {
     "name": "stdout",
     "output_type": "stream",
     "text": [
      "Explained Variance of this outer fold is: \n",
      "0.002303374751599141\n",
      "The R2 of this outer fold is: \n",
      "-27.95010132498475\n",
      "Explained Variance of this outer fold is: \n",
      "0.18528941322524894\n",
      "The R2 of this outer fold is: \n",
      "-14.509243947636268\n",
      "Explained Variance of this outer fold is: \n",
      "0.2010732569758279\n",
      "The R2 of this outer fold is: \n",
      "-5.519252981552944\n",
      "Explained Variance of this outer fold is: \n",
      "-0.33987317620873836\n",
      "The R2 of this outer fold is: \n",
      "-7.930682625460458\n",
      "Explained Variance of this outer fold is: \n",
      "0.036479665783772375\n",
      "The R2 of this outer fold is: \n",
      "-4.969549231916042\n",
      "Explained Variance of this outer fold is: \n",
      "-0.015232290582614771\n",
      "The R2 of this outer fold is: \n",
      "-6.257043392203258\n",
      "Explained Variance of this outer fold is: \n",
      "-0.7337405209732721\n",
      "The R2 of this outer fold is: \n",
      "-9.110099723870045\n",
      "Explained Variance of this outer fold is: \n",
      "-0.16379971006056326\n",
      "The R2 of this outer fold is: \n",
      "-4.369976751619813\n",
      "Explained Variance of this outer fold is: \n",
      "0.06575375795029514\n",
      "The R2 of this outer fold is: \n",
      "-40.661793701591236\n",
      "Explained Variance of this outer fold is: \n",
      "0.11250804524033142\n",
      "The R2 of this outer fold is: \n",
      "-7.1260581891035155\n",
      "Explained Variance of this outer fold is: \n",
      "-0.20909322919535067\n",
      "The R2 of this outer fold is: \n",
      "-15.959177272696465\n",
      "Explained Variance of this outer fold is: \n",
      "-0.16270724676584414\n",
      "The R2 of this outer fold is: \n",
      "-4.60633848641387\n",
      "Explained Variance of this outer fold is: \n",
      "0.15394916496720468\n",
      "The R2 of this outer fold is: \n",
      "-5.5728278648886524\n",
      "Explained Variance of this outer fold is: \n",
      "0.37958084160075234\n",
      "The R2 of this outer fold is: \n",
      "0.3718268044097456\n",
      "Explained Variance of this outer fold is: \n",
      "0.23601868045067054\n",
      "The R2 of this outer fold is: \n",
      "0.11192048413844868\n",
      "Explained Variance of this outer fold is: \n",
      "0.17116072859855203\n",
      "The R2 of this outer fold is: \n",
      "0.07952008163727575\n",
      "Explained Variance of this outer fold is: \n",
      "0.2482023757244094\n",
      "The R2 of this outer fold is: \n",
      "0.20759964744905512\n",
      "Explained Variance of this outer fold is: \n",
      "0.22122652739737958\n",
      "The R2 of this outer fold is: \n",
      "0.21897995601942288\n"
     ]
    }
   ],
   "source": [
    "tscv = TimeSeriesSplit(n_splits=unique_seasons - 1)\n",
    "for train_index, test_index in tscv.split(X):\n",
    "    X_train, X_test = X.loc[train_index], X.loc[test_index]\n",
    "    y_train, y_test = np_Y[train_index], np_Y[test_index]\n",
    "    model = RandomForestRegressor(bootstrap=rrf_best_params['bootstrap'],\n",
    "                                    max_depth=rrf_best_params['max_depth'],\n",
    "                                    max_features=rrf_best_params['max_features'],\n",
    "                                    n_estimators=rrf_best_params['n_estimators'],\n",
    "                                    n_jobs = -1).fit(X_train, y_train)\n",
    "    yhat = model.predict(X_test)\n",
    "    reg_scorer(y_test, yhat)\n",
    "    "
   ]
  },
  {
   "cell_type": "markdown",
   "id": "edbe63eb",
   "metadata": {},
   "source": [
    "Interestingly enough, the Random Forest Regression performed significantly worse on the TimeSeriesSplit data in comparison to the TrainTestSplit data. I would stick with normal TrainTestSplit if I were to use regression going forward."
   ]
  },
  {
   "cell_type": "markdown",
   "id": "a898bb82",
   "metadata": {},
   "source": [
    "## Further Improvements / Next Steps"
   ]
  },
  {
   "cell_type": "markdown",
   "id": "3f530252",
   "metadata": {},
   "source": [
    "If I really wanted to make this model the best that it could possibly be, there are a number of further experiments that I could perform. I could perform some feature selection or PCA to see if a simpler input dataset can allow the model to achieve greater accuracy. I could also perform further hyperparameter optimization by both making the initial grid search larger and also including a second grid search to look over a range of hyperparameters surrounding the best ones from the original grid search. I would also compare a TimeSeriesSplit to TrainTestSplit for every single model rather than just the best ones with TrainTestSplit. Finally, I would also try to augment this dataset with more data from the last couple of seasons and just more data overall. The model could probably achieve a significant amount of improvement with all of these steps."
   ]
  }
 ],
 "metadata": {
  "kernelspec": {
   "display_name": "Python 3",
   "language": "python",
   "name": "python3"
  },
  "language_info": {
   "codemirror_mode": {
    "name": "ipython",
    "version": 3
   },
   "file_extension": ".py",
   "mimetype": "text/x-python",
   "name": "python",
   "nbconvert_exporter": "python",
   "pygments_lexer": "ipython3",
   "version": "3.6.13"
  }
 },
 "nbformat": 4,
 "nbformat_minor": 5
}
