{
 "cells": [
  {
   "cell_type": "markdown",
   "id": "06336205",
   "metadata": {},
   "source": [
    "## Initial Cleaning and Exploration"
   ]
  },
  {
   "cell_type": "code",
   "execution_count": 1,
   "id": "bc5b60df",
   "metadata": {},
   "outputs": [
    {
     "data": {
      "text/html": [
       "<div>\n",
       "<style scoped>\n",
       "    .dataframe tbody tr th:only-of-type {\n",
       "        vertical-align: middle;\n",
       "    }\n",
       "\n",
       "    .dataframe tbody tr th {\n",
       "        vertical-align: top;\n",
       "    }\n",
       "\n",
       "    .dataframe thead th {\n",
       "        text-align: right;\n",
       "    }\n",
       "</style>\n",
       "<table border=\"1\" class=\"dataframe\">\n",
       "  <thead>\n",
       "    <tr style=\"text-align: right;\">\n",
       "      <th></th>\n",
       "      <th>Name</th>\n",
       "      <th>Position</th>\n",
       "      <th>Age</th>\n",
       "      <th>Team_from</th>\n",
       "      <th>League_from</th>\n",
       "      <th>Team_to</th>\n",
       "      <th>League_to</th>\n",
       "      <th>Season</th>\n",
       "      <th>Market_value</th>\n",
       "      <th>Transfer_fee</th>\n",
       "    </tr>\n",
       "  </thead>\n",
       "  <tbody>\n",
       "    <tr>\n",
       "      <th>0</th>\n",
       "      <td>Luís Figo</td>\n",
       "      <td>Right Winger</td>\n",
       "      <td>27</td>\n",
       "      <td>FC Barcelona</td>\n",
       "      <td>LaLiga</td>\n",
       "      <td>Real Madrid</td>\n",
       "      <td>LaLiga</td>\n",
       "      <td>2000-2001</td>\n",
       "      <td>NaN</td>\n",
       "      <td>60000000</td>\n",
       "    </tr>\n",
       "    <tr>\n",
       "      <th>1</th>\n",
       "      <td>Hernán Crespo</td>\n",
       "      <td>Centre-Forward</td>\n",
       "      <td>25</td>\n",
       "      <td>Parma</td>\n",
       "      <td>Serie A</td>\n",
       "      <td>Lazio</td>\n",
       "      <td>Serie A</td>\n",
       "      <td>2000-2001</td>\n",
       "      <td>NaN</td>\n",
       "      <td>56810000</td>\n",
       "    </tr>\n",
       "    <tr>\n",
       "      <th>2</th>\n",
       "      <td>Marc Overmars</td>\n",
       "      <td>Left Winger</td>\n",
       "      <td>27</td>\n",
       "      <td>Arsenal</td>\n",
       "      <td>Premier League</td>\n",
       "      <td>FC Barcelona</td>\n",
       "      <td>LaLiga</td>\n",
       "      <td>2000-2001</td>\n",
       "      <td>NaN</td>\n",
       "      <td>40000000</td>\n",
       "    </tr>\n",
       "    <tr>\n",
       "      <th>3</th>\n",
       "      <td>Gabriel Batistuta</td>\n",
       "      <td>Centre-Forward</td>\n",
       "      <td>31</td>\n",
       "      <td>Fiorentina</td>\n",
       "      <td>Serie A</td>\n",
       "      <td>AS Roma</td>\n",
       "      <td>Serie A</td>\n",
       "      <td>2000-2001</td>\n",
       "      <td>NaN</td>\n",
       "      <td>36150000</td>\n",
       "    </tr>\n",
       "    <tr>\n",
       "      <th>4</th>\n",
       "      <td>Nicolas Anelka</td>\n",
       "      <td>Centre-Forward</td>\n",
       "      <td>21</td>\n",
       "      <td>Real Madrid</td>\n",
       "      <td>LaLiga</td>\n",
       "      <td>Paris SG</td>\n",
       "      <td>Ligue 1</td>\n",
       "      <td>2000-2001</td>\n",
       "      <td>NaN</td>\n",
       "      <td>34500000</td>\n",
       "    </tr>\n",
       "  </tbody>\n",
       "</table>\n",
       "</div>"
      ],
      "text/plain": [
       "                Name        Position  Age     Team_from     League_from  \\\n",
       "0          Luís Figo    Right Winger   27  FC Barcelona          LaLiga   \n",
       "1      Hernán Crespo  Centre-Forward   25         Parma         Serie A   \n",
       "2      Marc Overmars     Left Winger   27       Arsenal  Premier League   \n",
       "3  Gabriel Batistuta  Centre-Forward   31    Fiorentina         Serie A   \n",
       "4     Nicolas Anelka  Centre-Forward   21   Real Madrid          LaLiga   \n",
       "\n",
       "        Team_to League_to     Season  Market_value  Transfer_fee  \n",
       "0   Real Madrid    LaLiga  2000-2001           NaN      60000000  \n",
       "1         Lazio   Serie A  2000-2001           NaN      56810000  \n",
       "2  FC Barcelona    LaLiga  2000-2001           NaN      40000000  \n",
       "3       AS Roma   Serie A  2000-2001           NaN      36150000  \n",
       "4      Paris SG   Ligue 1  2000-2001           NaN      34500000  "
      ]
     },
     "execution_count": 1,
     "metadata": {},
     "output_type": "execute_result"
    }
   ],
   "source": [
    "%matplotlib inline\n",
    "import warnings\n",
    "import pandas as pd\n",
    "from pandas.core.common import SettingWithCopyWarning\n",
    "warnings.simplefilter(action='ignore', category=SettingWithCopyWarning)\n",
    "from sklearn.exceptions import DataConversionWarning\n",
    "warnings.filterwarnings(action='ignore', category=DataConversionWarning)\n",
    "import matplotlib.pyplot as plt\n",
    "import numpy as np\n",
    "import seaborn as sns\n",
    "import math\n",
    "df = pd.read_csv(\"top250-00-19.csv\")\n",
    "df.head()"
   ]
  },
  {
   "cell_type": "code",
   "execution_count": 2,
   "id": "50eca545",
   "metadata": {},
   "outputs": [
    {
     "name": "stdout",
     "output_type": "stream",
     "text": [
      "24.33872340425532\n"
     ]
    }
   ],
   "source": [
    "#mean age of players in the data\n",
    "rows = df.shape[0]\n",
    "age_sum = sum(df['Age'])\n",
    "mean_age = age_sum / rows\n",
    "print(mean_age)"
   ]
  },
  {
   "cell_type": "code",
   "execution_count": 3,
   "id": "e9441db9",
   "metadata": {},
   "outputs": [
    {
     "name": "stdout",
     "output_type": "stream",
     "text": [
      "4700\n"
     ]
    }
   ],
   "source": [
    "print(rows)"
   ]
  },
  {
   "cell_type": "code",
   "execution_count": 4,
   "id": "5a8e91fd",
   "metadata": {},
   "outputs": [
    {
     "data": {
      "text/html": [
       "<div>\n",
       "<style scoped>\n",
       "    .dataframe tbody tr th:only-of-type {\n",
       "        vertical-align: middle;\n",
       "    }\n",
       "\n",
       "    .dataframe tbody tr th {\n",
       "        vertical-align: top;\n",
       "    }\n",
       "\n",
       "    .dataframe thead th {\n",
       "        text-align: right;\n",
       "    }\n",
       "</style>\n",
       "<table border=\"1\" class=\"dataframe\">\n",
       "  <thead>\n",
       "    <tr style=\"text-align: right;\">\n",
       "      <th></th>\n",
       "      <th>Name</th>\n",
       "      <th>Position</th>\n",
       "      <th>Age</th>\n",
       "      <th>Team_from</th>\n",
       "      <th>League_from</th>\n",
       "      <th>Team_to</th>\n",
       "      <th>League_to</th>\n",
       "      <th>Season</th>\n",
       "      <th>Market_value</th>\n",
       "      <th>Transfer_fee</th>\n",
       "    </tr>\n",
       "  </thead>\n",
       "  <tbody>\n",
       "    <tr>\n",
       "      <th>4211</th>\n",
       "      <td>Neymar</td>\n",
       "      <td>Left Winger</td>\n",
       "      <td>25</td>\n",
       "      <td>FC Barcelona</td>\n",
       "      <td>LaLiga</td>\n",
       "      <td>Paris SG</td>\n",
       "      <td>Ligue 1</td>\n",
       "      <td>2017-2018</td>\n",
       "      <td>100000000.0</td>\n",
       "      <td>222000000</td>\n",
       "    </tr>\n",
       "  </tbody>\n",
       "</table>\n",
       "</div>"
      ],
      "text/plain": [
       "        Name     Position  Age     Team_from League_from   Team_to League_to  \\\n",
       "4211  Neymar  Left Winger   25  FC Barcelona      LaLiga  Paris SG   Ligue 1   \n",
       "\n",
       "         Season  Market_value  Transfer_fee  \n",
       "4211  2017-2018   100000000.0     222000000  "
      ]
     },
     "execution_count": 4,
     "metadata": {},
     "output_type": "execute_result"
    }
   ],
   "source": [
    "most_expensive = df[df['Transfer_fee'] == df['Transfer_fee'].max()]\n",
    "most_expensive"
   ]
  },
  {
   "cell_type": "markdown",
   "id": "7989528d",
   "metadata": {},
   "source": [
    "I've loaded in the dataset and done some initial exploration here. Not surprisingly, Neymar's transfer to PSG is the most expensive one in the dataset."
   ]
  },
  {
   "cell_type": "code",
   "execution_count": 5,
   "id": "01a6021b",
   "metadata": {},
   "outputs": [
    {
     "data": {
      "text/html": [
       "<div>\n",
       "<style scoped>\n",
       "    .dataframe tbody tr th:only-of-type {\n",
       "        vertical-align: middle;\n",
       "    }\n",
       "\n",
       "    .dataframe tbody tr th {\n",
       "        vertical-align: top;\n",
       "    }\n",
       "\n",
       "    .dataframe thead th {\n",
       "        text-align: right;\n",
       "    }\n",
       "</style>\n",
       "<table border=\"1\" class=\"dataframe\">\n",
       "  <thead>\n",
       "    <tr style=\"text-align: right;\">\n",
       "      <th></th>\n",
       "      <th>Team_to</th>\n",
       "      <th>Mean_fee</th>\n",
       "      <th>Transfer_count</th>\n",
       "    </tr>\n",
       "  </thead>\n",
       "  <tbody>\n",
       "    <tr>\n",
       "      <th>257</th>\n",
       "      <td>SIPG</td>\n",
       "      <td>2.598333e+07</td>\n",
       "      <td>6</td>\n",
       "    </tr>\n",
       "    <tr>\n",
       "      <th>110</th>\n",
       "      <td>FC Barcelona</td>\n",
       "      <td>2.390057e+07</td>\n",
       "      <td>70</td>\n",
       "    </tr>\n",
       "    <tr>\n",
       "      <th>70</th>\n",
       "      <td>CC Yatai</td>\n",
       "      <td>2.330000e+07</td>\n",
       "      <td>1</td>\n",
       "    </tr>\n",
       "    <tr>\n",
       "      <th>194</th>\n",
       "      <td>Man Utd</td>\n",
       "      <td>2.303631e+07</td>\n",
       "      <td>65</td>\n",
       "    </tr>\n",
       "    <tr>\n",
       "      <th>243</th>\n",
       "      <td>Real Madrid</td>\n",
       "      <td>2.240867e+07</td>\n",
       "      <td>75</td>\n",
       "    </tr>\n",
       "    <tr>\n",
       "      <th>221</th>\n",
       "      <td>Paris SG</td>\n",
       "      <td>1.931485e+07</td>\n",
       "      <td>66</td>\n",
       "    </tr>\n",
       "    <tr>\n",
       "      <th>192</th>\n",
       "      <td>Man City</td>\n",
       "      <td>1.915447e+07</td>\n",
       "      <td>94</td>\n",
       "    </tr>\n",
       "    <tr>\n",
       "      <th>83</th>\n",
       "      <td>Chelsea</td>\n",
       "      <td>1.896510e+07</td>\n",
       "      <td>96</td>\n",
       "    </tr>\n",
       "    <tr>\n",
       "      <th>165</th>\n",
       "      <td>Juventus</td>\n",
       "      <td>1.690736e+07</td>\n",
       "      <td>87</td>\n",
       "    </tr>\n",
       "    <tr>\n",
       "      <th>184</th>\n",
       "      <td>Liverpool</td>\n",
       "      <td>1.661671e+07</td>\n",
       "      <td>85</td>\n",
       "    </tr>\n",
       "  </tbody>\n",
       "</table>\n",
       "</div>"
      ],
      "text/plain": [
       "          Team_to      Mean_fee  Transfer_count\n",
       "257          SIPG  2.598333e+07               6\n",
       "110  FC Barcelona  2.390057e+07              70\n",
       "70       CC Yatai  2.330000e+07               1\n",
       "194       Man Utd  2.303631e+07              65\n",
       "243   Real Madrid  2.240867e+07              75\n",
       "221      Paris SG  1.931485e+07              66\n",
       "192      Man City  1.915447e+07              94\n",
       "83        Chelsea  1.896510e+07              96\n",
       "165      Juventus  1.690736e+07              87\n",
       "184     Liverpool  1.661671e+07              85"
      ]
     },
     "execution_count": 5,
     "metadata": {},
     "output_type": "execute_result"
    }
   ],
   "source": [
    "mean_fee=df.groupby('Team_to')['Transfer_fee'].mean().rename('Mean_fee')\n",
    "count_transfers=df.groupby('Team_to')['Transfer_fee'].size().rename('Transfer_count')\n",
    "biggest_avg_spender = pd.concat([mean_fee, count_transfers], axis=1).reset_index()\n",
    "biggest_avg_spender.nlargest(10, 'Mean_fee')"
   ]
  },
  {
   "cell_type": "markdown",
   "id": "508dc983",
   "metadata": {},
   "source": [
    "The top ten largest average spenders are shown above. SIPG and CC Yatai are both Chinese clubs that I'm not very familiar with, but their transfer count also isn't that high so I won't look into their inclusion too much. Besides those two clubs, there aren't really any surprises in this list."
   ]
  },
  {
   "cell_type": "code",
   "execution_count": 6,
   "id": "ae273e46",
   "metadata": {},
   "outputs": [
    {
     "data": {
      "text/plain": [
       "Premier League    1256\n",
       "Serie A            739\n",
       "LaLiga             525\n",
       "1.Bundesliga       422\n",
       "Ligue 1            397\n",
       "Premier Liga       328\n",
       "Süper Lig          143\n",
       "Liga NOS           127\n",
       "Super League       122\n",
       "Eredivisie         108\n",
       "other              461\n",
       "Name: League, dtype: int64"
      ]
     },
     "execution_count": 6,
     "metadata": {},
     "output_type": "execute_result"
    }
   ],
   "source": [
    "league_to = df['League_to']\n",
    "count = league_to.value_counts()\n",
    "count['other'] = sum(count[11:])\n",
    "count.sort_values(ascending=False)\n",
    "filtered_counts = count[count > 72]\n",
    "filtered_counts.rename('League')\n",
    "#Counts of what leagues transfers go to"
   ]
  },
  {
   "cell_type": "code",
   "execution_count": 7,
   "id": "faed4966",
   "metadata": {},
   "outputs": [
    {
     "data": {
      "image/png": "[encoded data removed]",
      "text/plain": [
       "<Figure size 432x288 with 1 Axes>"
      ]
     },
     "metadata": {},
     "output_type": "display_data"
    }
   ],
   "source": [
    "colormap = plt.cm.nipy_spectral\n",
    "filtered_counts.plot(kind=\"pie\", colormap=colormap, title=\"Destination of Transfers\")\n",
    "left, right = plt.xlim()\n",
    "plt.xlim(left - 0.5, right - 0.5)\n",
    "plt.tight_layout()\n",
    "plt.show()\n"
   ]
  },
  {
   "cell_type": "code",
   "execution_count": 8,
   "id": "b3f22e62",
   "metadata": {},
   "outputs": [
    {
     "data": {
      "text/plain": [
       "Premier League     608\n",
       "Serie A            602\n",
       "Ligue 1            428\n",
       "LaLiga             418\n",
       "1.Bundesliga       265\n",
       "Série A            199\n",
       "Championship       197\n",
       "Eredivisie         190\n",
       "Liga NOS           178\n",
       "Premier Liga       169\n",
       "Super League       108\n",
       "other             1338\n",
       "Name: League, dtype: int64"
      ]
     },
     "execution_count": 8,
     "metadata": {},
     "output_type": "execute_result"
    }
   ],
   "source": [
    "league_from = df[\"League_from\"]\n",
    "count = league_from.value_counts()\n",
    "count['other'] = sum(count[11:])\n",
    "count.sort_values(ascending=False)\n",
    "filtered_counts = count[count > 100]\n",
    "filtered_counts.rename('League')\n",
    "#Counts of what leagues transfers come from"
   ]
  },
  {
   "cell_type": "code",
   "execution_count": 9,
   "id": "5089b4a8",
   "metadata": {},
   "outputs": [
    {
     "data": {
      "image/png": "[encoded data removed]",
      "text/plain": [
       "<Figure size 432x288 with 1 Axes>"
      ]
     },
     "metadata": {},
     "output_type": "display_data"
    }
   ],
   "source": [
    "colormap = plt.cm.nipy_spectral\n",
    "filtered_counts.plot(kind=\"pie\", colormap=colormap, title=\"Origin of Transfers\")\n",
    "left, right = plt.xlim()\n",
    "plt.xlim(left - 0.5, right - 0.5)\n",
    "plt.tight_layout()\n",
    "plt.show()"
   ]
  },
  {
   "cell_type": "markdown",
   "id": "2a0ca986",
   "metadata": {},
   "source": [
    "The two pie charts above show the destination and origin of the transfers. The first chart shows that the majority of the most expensive transfers go to the traditional top 5 leagues, with the premier league having the greatest percentage. The second pie chart shows the origin of the transfers is similar to the destinations, except that the smaller leagues take up a greater percentage. This makes sense logically, as while many top clubs buy players from other top leagues, they also frequently buy players from smaller leagues. However, it is less common for a club from a smaller league to buy a player from a top league."
   ]
  },
  {
   "cell_type": "markdown",
   "id": "7013811b",
   "metadata": {},
   "source": [
    "## Aggregating Positions"
   ]
  },
  {
   "cell_type": "markdown",
   "id": "02020fbb",
   "metadata": {},
   "source": [
    "Now I do some more data cleaning. There are many similar positions listed in the dataset, so I am going to group similar positions together, such as Left-Winger and Left-Midfielder in order to get a simpler dataset with less different positions."
   ]
  },
  {
   "cell_type": "code",
   "execution_count": 10,
   "id": "272b4c12",
   "metadata": {},
   "outputs": [
    {
     "data": {
      "text/plain": [
       "Centre-Forward        1218\n",
       "Centre-Back            714\n",
       "Central Midfield       487\n",
       "Attacking Midfield     426\n",
       "Defensive Midfield     411\n",
       "Right Winger           305\n",
       "Left Winger            267\n",
       "Left-Back              225\n",
       "Right-Back             181\n",
       "Goalkeeper             180\n",
       "Second Striker         130\n",
       "Left Midfield           87\n",
       "Right Midfield          63\n",
       "Forward                  3\n",
       "Sweeper                  1\n",
       "Defender                 1\n",
       "Midfielder               1\n",
       "Name: Position, dtype: int64"
      ]
     },
     "execution_count": 10,
     "metadata": {},
     "output_type": "execute_result"
    }
   ],
   "source": [
    "#Now we will explore the average cost based on position\n",
    "df['Position'].value_counts()"
   ]
  },
  {
   "cell_type": "code",
   "execution_count": 11,
   "id": "13c51ad1",
   "metadata": {},
   "outputs": [
    {
     "data": {
      "text/plain": [
       "Centre-Forward        1351\n",
       "Centre-Back            716\n",
       "Central Midfield       488\n",
       "Attacking Midfield     426\n",
       "Defensive Midfield     411\n",
       "Right Midfield         368\n",
       "Left Midfield          354\n",
       "Left-Back              225\n",
       "Right-Back             181\n",
       "Goalkeeper             180\n",
       "Name: Position, dtype: int64"
      ]
     },
     "execution_count": 11,
     "metadata": {},
     "output_type": "execute_result"
    }
   ],
   "source": [
    "#Clean the data to group similar positions together\n",
    "df.loc[df.Position == 'Left Winger', 'Position'] = 'Left Midfield'\n",
    "df.loc[df.Position == 'Second Striker', 'Position'] = 'Centre-Forward'\n",
    "df.loc[df.Position == 'Right Winger', 'Position'] = 'Right Midfield'\n",
    "df.loc[df.Position == 'Sweeper', 'Position'] = 'Centre-Back'\n",
    "df.loc[df.Position == 'Defender', 'Position'] = 'Centre-Back'\n",
    "df.loc[df.Position == 'Midfielder', 'Position'] = 'Central Midfield'\n",
    "df.loc[df.Position == 'Forward', 'Position'] = 'Centre-Forward'\n",
    "df['Position'].value_counts()"
   ]
  },
  {
   "cell_type": "code",
   "execution_count": 12,
   "id": "4f50678e",
   "metadata": {},
   "outputs": [
    {
     "name": "stdout",
     "output_type": "stream",
     "text": [
      "             Position  Transfer_fee\n",
      "0  Attacking Midfield  9.824178e+06\n",
      "1    Central Midfield  1.007787e+07\n",
      "2         Centre-Back  8.430929e+06\n",
      "3      Centre-Forward  9.496869e+06\n",
      "4  Defensive Midfield  8.992019e+06\n",
      "5          Goalkeeper  7.622667e+06\n",
      "6       Left Midfield  1.138398e+07\n",
      "7           Left-Back  7.718933e+06\n",
      "8      Right Midfield  1.115549e+07\n",
      "9          Right-Back  8.254309e+06\n"
     ]
    }
   ],
   "source": [
    "average_costs = df.groupby('Position', as_index=False)['Transfer_fee'].mean()\n",
    "print(average_costs)"
   ]
  },
  {
   "cell_type": "code",
   "execution_count": 13,
   "id": "0c1ca0cd",
   "metadata": {
    "collapsed": true
   },
   "outputs": [],
   "source": [
    "df.to_csv('cleaned.csv')"
   ]
  }
 ],
 "metadata": {
  "kernelspec": {
   "display_name": "Python 3",
   "language": "python",
   "name": "python3"
  },
  "language_info": {
   "codemirror_mode": {
    "name": "ipython",
    "version": 3
   },
   "file_extension": ".py",
   "mimetype": "text/x-python",
   "name": "python",
   "nbconvert_exporter": "python",
   "pygments_lexer": "ipython3",
   "version": "3.6.13"
  }
 },
 "nbformat": 4,
 "nbformat_minor": 5
}
